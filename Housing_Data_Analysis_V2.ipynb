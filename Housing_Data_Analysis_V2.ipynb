{
 "cells": [
  {
   "cell_type": "code",
   "execution_count": 58,
   "id": "e36f9261",
   "metadata": {},
   "outputs": [],
   "source": [
    "# import tool set\n",
    "import pandas as pd\n",
    "import numpy as np\n",
    "import seaborn as sns\n",
    "import matplotlib.pyplot as plt\n"
   ]
  },
  {
   "cell_type": "code",
   "execution_count": 59,
   "id": "b2348291",
   "metadata": {},
   "outputs": [],
   "source": [
    "# Get data from Excel\n",
    "df = pd.read_excel('/Users/arnet/Desktop/Ironhack/Week5_Project/regression_data.xls')"
   ]
  },
  {
   "cell_type": "code",
   "execution_count": 60,
   "id": "812344f4",
   "metadata": {
    "scrolled": false
   },
   "outputs": [],
   "source": [
    "#df"
   ]
  },
  {
   "cell_type": "code",
   "execution_count": 61,
   "id": "df94bede",
   "metadata": {},
   "outputs": [],
   "source": [
    "# Export as csv\n",
    "#df.to_csv('/Users/arnet/Desktop/Ironhack/Week5_Project/regression_data_new.csv')"
   ]
  },
  {
   "cell_type": "code",
   "execution_count": 62,
   "id": "fd1f8c02",
   "metadata": {
    "scrolled": false
   },
   "outputs": [],
   "source": [
    "# Get information about the columns\n",
    "#df.info()"
   ]
  },
  {
   "cell_type": "markdown",
   "id": "653b606e",
   "metadata": {},
   "source": [
    "#### What data should be dropped before normalisation and regression?\n",
    "\n",
    "Columns:\n",
    "* ID\n",
    "* date\n",
    "* lat\n",
    "* long\n",
    "* waterfront"
   ]
  },
  {
   "cell_type": "code",
   "execution_count": 63,
   "id": "65d401bc",
   "metadata": {},
   "outputs": [
    {
     "data": {
      "text/plain": [
       "'for column in df:\\n    print(column.upper())\\n    print(df[column].value_counts())\\n    print()'"
      ]
     },
     "execution_count": 63,
     "metadata": {},
     "output_type": "execute_result"
    }
   ],
   "source": [
    "# Get an overview of column values\n",
    "'''for column in df:\n",
    "    print(column.upper())\n",
    "    print(df[column].value_counts())\n",
    "    print()'''"
   ]
  },
  {
   "cell_type": "markdown",
   "id": "8e314d31",
   "metadata": {},
   "source": [
    "## Identify outliers\n",
    "\n",
    "By plotting the coordinates of the properties on a map (via Tableau), it was discovered that a number of properties lie hundreds of kilometers away from the area in which the vast majority of the data is concentrated. It was also discovered that approx. 120 properties are located on an island only accessible by ferry. Since the setting of these properties is markedly different from the others in the data set, it was decided to exclude these properties by excluding Zip Codes 98070 ( Vashon and Maury Island), 98045 and 98065 as well as properties located East of -121.7 degrees longitude"
   ]
  },
  {
   "cell_type": "code",
   "execution_count": 64,
   "id": "816aec01",
   "metadata": {},
   "outputs": [],
   "source": [
    "# Drop properties on islands and far outside central dataset\n",
    "zips = [98070, 98045, 98065]\n",
    "for code in zips:\n",
    "    df.drop(df[df.zipcode == code].index, inplace=True)\n",
    "\n",
    "df.drop(df[df.long > -121.7].index, inplace=True)\n",
    "\n",
    "# Reset index\n",
    "df.reset_index(drop=True, inplace=True)"
   ]
  },
  {
   "cell_type": "code",
   "execution_count": 65,
   "id": "b699966c",
   "metadata": {},
   "outputs": [],
   "source": [
    "# Drop property with 33 bedrooms\n",
    "df.drop(df[df.bedrooms == 33].index, inplace=True)\n",
    "\n",
    "# Reset index\n",
    "df.reset_index(drop=True, inplace=True)"
   ]
  },
  {
   "cell_type": "code",
   "execution_count": 66,
   "id": "c63e10ff",
   "metadata": {},
   "outputs": [],
   "source": [
    "# Drop lot sizes with >250,000 square feet\n",
    "df.drop(df[df.sqft_lot15 > 200000].index, inplace=True)\n",
    "\n",
    "# Reset index\n",
    "df.reset_index(drop=True, inplace=True)"
   ]
  },
  {
   "cell_type": "markdown",
   "id": "677b4d93",
   "metadata": {},
   "source": [
    "## Add other datasets / calculated fields\n",
    "\n",
    "#### Calculated fields\n",
    "* Bins concerning housing prices\n",
    "* Distance from downtown Seattle\n",
    "* Distance from Metro Station\n",
    "* Distance from top 5 employers"
   ]
  },
  {
   "cell_type": "code",
   "execution_count": 67,
   "id": "485001cb",
   "metadata": {
    "scrolled": false
   },
   "outputs": [
    {
     "data": {
      "text/plain": [
       "\"conditions = [\\n    (df['yr_built'] <= 1940),\\n    (df['yr_built'] > 1940) & (df['yr_built'] <=1980),\\n    (df['yr_built'] > 1980) & (df['yr_built'] <= 2000),\\n    (df['yr_built'] > 2000) & (df['yr_built'] <= 2010),\\n    (df['yr_built'] > 2010)\\n    ]\\n\\n# create a list of the values we want to assign for each condition\\nvalues = ['pre_war', 'post_war','post_80','post_2000', 'new']\\n\\n# create a new column and use np.select to assign values to it using our lists as arguments\\ndf['yr_built_bin'] = np.select(conditions, values)\\n\\n# display updated DataFrame\\n#df.head()\""
      ]
     },
     "execution_count": 67,
     "metadata": {},
     "output_type": "execute_result"
    }
   ],
   "source": [
    "# Create column with YEAR BUILT categories\n",
    "# create a list of our conditions\n",
    "'''conditions = [\n",
    "    (df['yr_built'] <= 1940),\n",
    "    (df['yr_built'] > 1940) & (df['yr_built'] <=1980),\n",
    "    (df['yr_built'] > 1980) & (df['yr_built'] <= 2000),\n",
    "    (df['yr_built'] > 2000) & (df['yr_built'] <= 2010),\n",
    "    (df['yr_built'] > 2010)\n",
    "    ]\n",
    "\n",
    "# create a list of the values we want to assign for each condition\n",
    "values = ['pre_war', 'post_war','post_80','post_2000', 'new']\n",
    "\n",
    "# create a new column and use np.select to assign values to it using our lists as arguments\n",
    "df['yr_built_bin'] = np.select(conditions, values)\n",
    "\n",
    "# display updated DataFrame\n",
    "#df.head()'''"
   ]
  },
  {
   "cell_type": "code",
   "execution_count": 68,
   "id": "cdfc8e9c",
   "metadata": {},
   "outputs": [],
   "source": [
    "# Create column with RENOVATION categories\n",
    "# create a list of our conditions\n",
    "conditions = [\n",
    "    (df['yr_renovated'] <= 1970),\n",
    "    (df['yr_renovated'] > 1970) & (df['yr_renovated'] <=2000),\n",
    "    (df['yr_renovated'] > 2000) & (df['yr_renovated'] <= 2010),\n",
    "    (df['yr_renovated'] > 2010)\n",
    "    ]\n",
    "\n",
    "# create a list of the values we want to assign for each condition\n",
    "values = ['not relevant', 'distant', 'recent', 'very recent']\n",
    "\n",
    "# create a new column and use np.select to assign values to it using our lists as arguments\n",
    "df['renovation_cat'] = np.select(conditions, values)\n",
    "\n",
    "# display updated DataFrame\n",
    "#df.head()"
   ]
  },
  {
   "cell_type": "code",
   "execution_count": 69,
   "id": "80ab7072",
   "metadata": {
    "scrolled": true
   },
   "outputs": [],
   "source": [
    "# Create column with BASEMENT categories\n",
    "# create a list of our conditions\n",
    "conditions = [\n",
    "    (df['sqft_basement'] <= 50),\n",
    "    (df['sqft_basement'] > 50) & (df['sqft_basement'] <=300),\n",
    "    (df['sqft_basement'] > 300) & (df['sqft_basement'] <= 700),\n",
    "    (df['sqft_basement'] > 700)\n",
    "    ]\n",
    "\n",
    "# create a list of the values we want to assign for each condition\n",
    "values = ['none', 'small', 'medium', 'large']\n",
    "\n",
    "# create a new column and use np.select to assign values to it using our lists as arguments\n",
    "df['basement_size'] = np.select(conditions, values)\n",
    "\n",
    "# display updated DataFrame\n",
    "#df.head()"
   ]
  },
  {
   "cell_type": "markdown",
   "id": "5faa3dfa",
   "metadata": {},
   "source": [
    "### Create clusters based on geospatial data"
   ]
  },
  {
   "cell_type": "code",
   "execution_count": 70,
   "id": "7db39954",
   "metadata": {},
   "outputs": [
    {
     "name": "stderr",
     "output_type": "stream",
     "text": [
      "C:\\Users\\arnet\\anaconda3\\lib\\site-packages\\seaborn\\_decorators.py:36: FutureWarning:\n",
      "\n",
      "Pass the following variables as keyword args: x, y. From version 0.12, the only valid positional argument will be `data`, and passing other arguments without an explicit keyword will result in an error or misinterpretation.\n",
      "\n"
     ]
    },
    {
     "data": {
      "text/plain": [
       "<AxesSubplot:xlabel='long', ylabel='lat'>"
      ]
     },
     "execution_count": 70,
     "metadata": {},
     "output_type": "execute_result"
    },
    {
     "data": {
      "image/png": "[encoded data removed]",
      "text/plain": [
       "<Figure size 432x288 with 1 Axes>"
      ]
     },
     "metadata": {
      "needs_background": "light"
     },
     "output_type": "display_data"
    }
   ],
   "source": [
    "#plt.figure(figsize = (15,8))\n",
    "sns.scatterplot(df['long'], df['lat'])"
   ]
  },
  {
   "cell_type": "code",
   "execution_count": 71,
   "id": "1491da27",
   "metadata": {},
   "outputs": [],
   "source": [
    "from sklearn.cluster import KMeans, AgglomerativeClustering\n",
    "\n",
    "# creates 20 clusters using hierarchical clustering.\n",
    "#agc = AgglomerativeClustering(n_clusters =20, affinity='euclidean', linkage='ward')\n",
    "#df['pickup_cluster_ag'] = agc.fit_predict(df[['lat','long']])\n",
    "\n",
    "# creates clusters using k-means clustering algorithm.\n",
    "kmeans = KMeans(300)\n",
    "clusters = kmeans.fit_predict(df[['lat','long']])\n",
    "df['geo_cluster_k'] = kmeans.predict(df[['lat','long']])"
   ]
  },
  {
   "cell_type": "code",
   "execution_count": 72,
   "id": "21ccb9ca",
   "metadata": {},
   "outputs": [
    {
     "data": {
      "text/html": [
       "<div>\n",
       "<style scoped>\n",
       "    .dataframe tbody tr th:only-of-type {\n",
       "        vertical-align: middle;\n",
       "    }\n",
       "\n",
       "    .dataframe tbody tr th {\n",
       "        vertical-align: top;\n",
       "    }\n",
       "\n",
       "    .dataframe thead th {\n",
       "        text-align: right;\n",
       "    }\n",
       "</style>\n",
       "<table border=\"1\" class=\"dataframe\">\n",
       "  <thead>\n",
       "    <tr style=\"text-align: right;\">\n",
       "      <th></th>\n",
       "      <th>id</th>\n",
       "      <th>date</th>\n",
       "      <th>bedrooms</th>\n",
       "      <th>bathrooms</th>\n",
       "      <th>sqft_living</th>\n",
       "      <th>sqft_lot</th>\n",
       "      <th>floors</th>\n",
       "      <th>waterfront</th>\n",
       "      <th>view</th>\n",
       "      <th>condition</th>\n",
       "      <th>...</th>\n",
       "      <th>yr_renovated</th>\n",
       "      <th>zipcode</th>\n",
       "      <th>lat</th>\n",
       "      <th>long</th>\n",
       "      <th>sqft_living15</th>\n",
       "      <th>sqft_lot15</th>\n",
       "      <th>price</th>\n",
       "      <th>renovation_cat</th>\n",
       "      <th>basement_size</th>\n",
       "      <th>geo_cluster_k</th>\n",
       "    </tr>\n",
       "  </thead>\n",
       "  <tbody>\n",
       "    <tr>\n",
       "      <th>0</th>\n",
       "      <td>7129300520</td>\n",
       "      <td>2014-10-13</td>\n",
       "      <td>3</td>\n",
       "      <td>1.00</td>\n",
       "      <td>1180</td>\n",
       "      <td>5650</td>\n",
       "      <td>1.0</td>\n",
       "      <td>0</td>\n",
       "      <td>0</td>\n",
       "      <td>3</td>\n",
       "      <td>...</td>\n",
       "      <td>0</td>\n",
       "      <td>98178</td>\n",
       "      <td>47.5112</td>\n",
       "      <td>-122.257</td>\n",
       "      <td>1340</td>\n",
       "      <td>5650</td>\n",
       "      <td>221900</td>\n",
       "      <td>not relevant</td>\n",
       "      <td>none</td>\n",
       "      <td>70</td>\n",
       "    </tr>\n",
       "    <tr>\n",
       "      <th>1</th>\n",
       "      <td>6414100192</td>\n",
       "      <td>2014-12-09</td>\n",
       "      <td>3</td>\n",
       "      <td>2.25</td>\n",
       "      <td>2570</td>\n",
       "      <td>7242</td>\n",
       "      <td>2.0</td>\n",
       "      <td>0</td>\n",
       "      <td>0</td>\n",
       "      <td>3</td>\n",
       "      <td>...</td>\n",
       "      <td>1991</td>\n",
       "      <td>98125</td>\n",
       "      <td>47.7210</td>\n",
       "      <td>-122.319</td>\n",
       "      <td>1690</td>\n",
       "      <td>7639</td>\n",
       "      <td>538000</td>\n",
       "      <td>distant</td>\n",
       "      <td>medium</td>\n",
       "      <td>55</td>\n",
       "    </tr>\n",
       "    <tr>\n",
       "      <th>2</th>\n",
       "      <td>5631500400</td>\n",
       "      <td>2015-02-25</td>\n",
       "      <td>2</td>\n",
       "      <td>1.00</td>\n",
       "      <td>770</td>\n",
       "      <td>10000</td>\n",
       "      <td>1.0</td>\n",
       "      <td>0</td>\n",
       "      <td>0</td>\n",
       "      <td>3</td>\n",
       "      <td>...</td>\n",
       "      <td>0</td>\n",
       "      <td>98028</td>\n",
       "      <td>47.7379</td>\n",
       "      <td>-122.233</td>\n",
       "      <td>2720</td>\n",
       "      <td>8062</td>\n",
       "      <td>180000</td>\n",
       "      <td>not relevant</td>\n",
       "      <td>none</td>\n",
       "      <td>273</td>\n",
       "    </tr>\n",
       "    <tr>\n",
       "      <th>3</th>\n",
       "      <td>2487200875</td>\n",
       "      <td>2014-12-09</td>\n",
       "      <td>4</td>\n",
       "      <td>3.00</td>\n",
       "      <td>1960</td>\n",
       "      <td>5000</td>\n",
       "      <td>1.0</td>\n",
       "      <td>0</td>\n",
       "      <td>0</td>\n",
       "      <td>5</td>\n",
       "      <td>...</td>\n",
       "      <td>0</td>\n",
       "      <td>98136</td>\n",
       "      <td>47.5208</td>\n",
       "      <td>-122.393</td>\n",
       "      <td>1360</td>\n",
       "      <td>5000</td>\n",
       "      <td>604000</td>\n",
       "      <td>not relevant</td>\n",
       "      <td>large</td>\n",
       "      <td>256</td>\n",
       "    </tr>\n",
       "    <tr>\n",
       "      <th>4</th>\n",
       "      <td>1954400510</td>\n",
       "      <td>2015-02-18</td>\n",
       "      <td>3</td>\n",
       "      <td>2.00</td>\n",
       "      <td>1680</td>\n",
       "      <td>8080</td>\n",
       "      <td>1.0</td>\n",
       "      <td>0</td>\n",
       "      <td>0</td>\n",
       "      <td>3</td>\n",
       "      <td>...</td>\n",
       "      <td>0</td>\n",
       "      <td>98074</td>\n",
       "      <td>47.6168</td>\n",
       "      <td>-122.045</td>\n",
       "      <td>1800</td>\n",
       "      <td>7503</td>\n",
       "      <td>510000</td>\n",
       "      <td>not relevant</td>\n",
       "      <td>none</td>\n",
       "      <td>161</td>\n",
       "    </tr>\n",
       "  </tbody>\n",
       "</table>\n",
       "<p>5 rows × 24 columns</p>\n",
       "</div>"
      ],
      "text/plain": [
       "           id       date  bedrooms  bathrooms  sqft_living  sqft_lot  floors  \\\n",
       "0  7129300520 2014-10-13         3       1.00         1180      5650     1.0   \n",
       "1  6414100192 2014-12-09         3       2.25         2570      7242     2.0   \n",
       "2  5631500400 2015-02-25         2       1.00          770     10000     1.0   \n",
       "3  2487200875 2014-12-09         4       3.00         1960      5000     1.0   \n",
       "4  1954400510 2015-02-18         3       2.00         1680      8080     1.0   \n",
       "\n",
       "   waterfront  view  condition  ...  yr_renovated  zipcode      lat     long  \\\n",
       "0           0     0          3  ...             0    98178  47.5112 -122.257   \n",
       "1           0     0          3  ...          1991    98125  47.7210 -122.319   \n",
       "2           0     0          3  ...             0    98028  47.7379 -122.233   \n",
       "3           0     0          5  ...             0    98136  47.5208 -122.393   \n",
       "4           0     0          3  ...             0    98074  47.6168 -122.045   \n",
       "\n",
       "   sqft_living15  sqft_lot15   price  renovation_cat  basement_size  \\\n",
       "0           1340        5650  221900    not relevant           none   \n",
       "1           1690        7639  538000         distant         medium   \n",
       "2           2720        8062  180000    not relevant           none   \n",
       "3           1360        5000  604000    not relevant          large   \n",
       "4           1800        7503  510000    not relevant           none   \n",
       "\n",
       "   geo_cluster_k  \n",
       "0             70  \n",
       "1             55  \n",
       "2            273  \n",
       "3            256  \n",
       "4            161  \n",
       "\n",
       "[5 rows x 24 columns]"
      ]
     },
     "execution_count": 72,
     "metadata": {},
     "output_type": "execute_result"
    }
   ],
   "source": [
    "df.head()"
   ]
  },
  {
   "cell_type": "code",
   "execution_count": 73,
   "id": "acf8f0e6",
   "metadata": {},
   "outputs": [],
   "source": [
    "#plt.figure(figsize = (15,8))\n",
    "#sns.scatterplot(df['long'], df['lat'], df['pickup_cluster_ag'])"
   ]
  },
  {
   "cell_type": "code",
   "execution_count": 74,
   "id": "c78f9a05",
   "metadata": {},
   "outputs": [
    {
     "name": "stderr",
     "output_type": "stream",
     "text": [
      "C:\\Users\\arnet\\anaconda3\\lib\\site-packages\\seaborn\\_decorators.py:36: FutureWarning:\n",
      "\n",
      "Pass the following variables as keyword args: x, y, hue. From version 0.12, the only valid positional argument will be `data`, and passing other arguments without an explicit keyword will result in an error or misinterpretation.\n",
      "\n"
     ]
    },
    {
     "data": {
      "text/plain": [
       "<AxesSubplot:xlabel='long', ylabel='lat'>"
      ]
     },
     "execution_count": 74,
     "metadata": {},
     "output_type": "execute_result"
    },
    {
     "data": {
      "image/png": "[encoded data removed]",
      "text/plain": [
       "<Figure size 504x504 with 1 Axes>"
      ]
     },
     "metadata": {
      "needs_background": "light"
     },
     "output_type": "display_data"
    }
   ],
   "source": [
    "plt.figure(figsize = (7,7))\n",
    "sns.scatterplot(df['long'], df['lat'], df['geo_cluster_k'], palette='Accent')"
   ]
  },
  {
   "cell_type": "markdown",
   "id": "71953543",
   "metadata": {},
   "source": [
    "### Calculate avg. square foot price per cluster"
   ]
  },
  {
   "cell_type": "code",
   "execution_count": null,
   "id": "c161f739",
   "metadata": {},
   "outputs": [],
   "source": []
  },
  {
   "cell_type": "markdown",
   "id": "ad29a471",
   "metadata": {},
   "source": [
    "### Get address components"
   ]
  },
  {
   "cell_type": "code",
   "execution_count": 47,
   "id": "bd47d676",
   "metadata": {},
   "outputs": [
    {
     "name": "stdout",
     "output_type": "stream",
     "text": [
      "10012, 61st Avenue South, Rainier Beach, Seattle, King County, Washington, 98178, United States\n",
      "Washington\n",
      "None\n",
      "United States\n",
      "98178\n",
      "61st Avenue South\n",
      "10012\n"
     ]
    }
   ],
   "source": [
    "from geopy.geocoders import Nominatim\n",
    "\n",
    "# create the locator\n",
    "geolocator = Nominatim(user_agent=\"myGeocoder\")\n",
    "\n",
    "# getting the location address\n",
    "location = geolocator.reverse(\"47.5112, -122.257\")\n",
    "print(location)\n",
    "# >>> result : Backwerk, Potsdamer Platz, Tiergarten, Mitte, Berlin, 10785, Deutschland\n",
    "\n",
    "# getting address compontent like street, city, state, country, country code, postalcode and so on.\n",
    "print(location.raw.get('address').get('state'))\n",
    "print(location.raw.get('address').get('city_district'))\n",
    "print(location.raw.get('address').get('country'))\n",
    "print(location.raw.get('address').get('postcode'))\n",
    "print(location.raw.get('address').get('road'))\n",
    "print(location.raw.get('address').get('house_number'))"
   ]
  },
  {
   "cell_type": "code",
   "execution_count": 48,
   "id": "dee05cd5",
   "metadata": {
    "scrolled": false
   },
   "outputs": [],
   "source": [
    "df_addr = df[:10]"
   ]
  },
  {
   "cell_type": "code",
   "execution_count": 49,
   "id": "daec9a94",
   "metadata": {},
   "outputs": [
    {
     "data": {
      "application/vnd.plotly.v1+json": {
       "config": {
        "plotlyServerURL": "https://plot.ly"
       },
       "data": [
        {
         "hovertemplate": "lat=%{lat}<br>long=%{lon}<extra></extra>",
         "lat": [
          47.5112,
          47.721,
          47.7379,
          47.5208,
          47.6168,
          47.6561,
          47.3097,
          47.4095,
          47.5123,
          47.3684
         ],
         "legendgroup": "",
         "lon": [
          -122.257,
          -122.319,
          -122.233,
          -122.393,
          -122.045,
          -122.005,
          -122.327,
          -122.315,
          -122.337,
          -122.031
         ],
         "marker": {
          "color": "#636efa"
         },
         "mode": "markers",
         "name": "",
         "showlegend": false,
         "subplot": "mapbox",
         "type": "scattermapbox"
        }
       ],
       "layout": {
        "legend": {
         "tracegroupgap": 0
        },
        "mapbox": {
         "center": {
          "lat": 47.53637,
          "lon": -122.22619999999999
         },
         "domain": {
          "x": [
           0,
           1
          ],
          "y": [
           0,
           1
          ]
         },
         "zoom": 15
        },
        "margin": {
         "t": 60
        },
        "template": {
         "data": {
          "bar": [
           {
            "error_x": {
             "color": "#2a3f5f"
            },
            "error_y": {
             "color": "#2a3f5f"
            },
            "marker": {
             "line": {
              "color": "#E5ECF6",
              "width": 0.5
             },
             "pattern": {
              "fillmode": "overlay",
              "size": 10,
              "solidity": 0.2
             }
            },
            "type": "bar"
           }
          ],
          "barpolar": [
           {
            "marker": {
             "line": {
              "color": "#E5ECF6",
              "width": 0.5
             },
             "pattern": {
              "fillmode": "overlay",
              "size": 10,
              "solidity": 0.2
             }
            },
            "type": "barpolar"
           }
          ],
          "carpet": [
           {
            "aaxis": {
             "endlinecolor": "#2a3f5f",
             "gridcolor": "white",
             "linecolor": "white",
             "minorgridcolor": "white",
             "startlinecolor": "#2a3f5f"
            },
            "baxis": {
             "endlinecolor": "#2a3f5f",
             "gridcolor": "white",
             "linecolor": "white",
             "minorgridcolor": "white",
             "startlinecolor": "#2a3f5f"
            },
            "type": "carpet"
           }
          ],
          "choropleth": [
           {
            "colorbar": {
             "outlinewidth": 0,
             "ticks": ""
            },
            "type": "choropleth"
           }
          ],
          "contour": [
           {
            "colorbar": {
             "outlinewidth": 0,
             "ticks": ""
            },
            "colorscale": [
             [
              0,
              "#0d0887"
             ],
             [
              0.1111111111111111,
              "#46039f"
             ],
             [
              0.2222222222222222,
              "#7201a8"
             ],
             [
              0.3333333333333333,
              "#9c179e"
             ],
             [
              0.4444444444444444,
              "#bd3786"
             ],
             [
              0.5555555555555556,
              "#d8576b"
             ],
             [
              0.6666666666666666,
              "#ed7953"
             ],
             [
              0.7777777777777778,
              "#fb9f3a"
             ],
             [
              0.8888888888888888,
              "#fdca26"
             ],
             [
              1,
              "#f0f921"
             ]
            ],
            "type": "contour"
           }
          ],
          "contourcarpet": [
           {
            "colorbar": {
             "outlinewidth": 0,
             "ticks": ""
            },
            "type": "contourcarpet"
           }
          ],
          "heatmap": [
           {
            "colorbar": {
             "outlinewidth": 0,
             "ticks": ""
            },
            "colorscale": [
             [
              0,
              "#0d0887"
             ],
             [
              0.1111111111111111,
              "#46039f"
             ],
             [
              0.2222222222222222,
              "#7201a8"
             ],
             [
              0.3333333333333333,
              "#9c179e"
             ],
             [
              0.4444444444444444,
              "#bd3786"
             ],
             [
              0.5555555555555556,
              "#d8576b"
             ],
             [
              0.6666666666666666,
              "#ed7953"
             ],
             [
              0.7777777777777778,
              "#fb9f3a"
             ],
             [
              0.8888888888888888,
              "#fdca26"
             ],
             [
              1,
              "#f0f921"
             ]
            ],
            "type": "heatmap"
           }
          ],
          "heatmapgl": [
           {
            "colorbar": {
             "outlinewidth": 0,
             "ticks": ""
            },
            "colorscale": [
             [
              0,
              "#0d0887"
             ],
             [
              0.1111111111111111,
              "#46039f"
             ],
             [
              0.2222222222222222,
              "#7201a8"
             ],
             [
              0.3333333333333333,
              "#9c179e"
             ],
             [
              0.4444444444444444,
              "#bd3786"
             ],
             [
              0.5555555555555556,
              "#d8576b"
             ],
             [
              0.6666666666666666,
              "#ed7953"
             ],
             [
              0.7777777777777778,
              "#fb9f3a"
             ],
             [
              0.8888888888888888,
              "#fdca26"
             ],
             [
              1,
              "#f0f921"
             ]
            ],
            "type": "heatmapgl"
           }
          ],
          "histogram": [
           {
            "marker": {
             "pattern": {
              "fillmode": "overlay",
              "size": 10,
              "solidity": 0.2
             }
            },
            "type": "histogram"
           }
          ],
          "histogram2d": [
           {
            "colorbar": {
             "outlinewidth": 0,
             "ticks": ""
            },
            "colorscale": [
             [
              0,
              "#0d0887"
             ],
             [
              0.1111111111111111,
              "#46039f"
             ],
             [
              0.2222222222222222,
              "#7201a8"
             ],
             [
              0.3333333333333333,
              "#9c179e"
             ],
             [
              0.4444444444444444,
              "#bd3786"
             ],
             [
              0.5555555555555556,
              "#d8576b"
             ],
             [
              0.6666666666666666,
              "#ed7953"
             ],
             [
              0.7777777777777778,
              "#fb9f3a"
             ],
             [
              0.8888888888888888,
              "#fdca26"
             ],
             [
              1,
              "#f0f921"
             ]
            ],
            "type": "histogram2d"
           }
          ],
          "histogram2dcontour": [
           {
            "colorbar": {
             "outlinewidth": 0,
             "ticks": ""
            },
            "colorscale": [
             [
              0,
              "#0d0887"
             ],
             [
              0.1111111111111111,
              "#46039f"
             ],
             [
              0.2222222222222222,
              "#7201a8"
             ],
             [
              0.3333333333333333,
              "#9c179e"
             ],
             [
              0.4444444444444444,
              "#bd3786"
             ],
             [
              0.5555555555555556,
              "#d8576b"
             ],
             [
              0.6666666666666666,
              "#ed7953"
             ],
             [
              0.7777777777777778,
              "#fb9f3a"
             ],
             [
              0.8888888888888888,
              "#fdca26"
             ],
             [
              1,
              "#f0f921"
             ]
            ],
            "type": "histogram2dcontour"
           }
          ],
          "mesh3d": [
           {
            "colorbar": {
             "outlinewidth": 0,
             "ticks": ""
            },
            "type": "mesh3d"
           }
          ],
          "parcoords": [
           {
            "line": {
             "colorbar": {
              "outlinewidth": 0,
              "ticks": ""
             }
            },
            "type": "parcoords"
           }
          ],
          "pie": [
           {
            "automargin": true,
            "type": "pie"
           }
          ],
          "scatter": [
           {
            "marker": {
             "colorbar": {
              "outlinewidth": 0,
              "ticks": ""
             }
            },
            "type": "scatter"
           }
          ],
          "scatter3d": [
           {
            "line": {
             "colorbar": {
              "outlinewidth": 0,
              "ticks": ""
             }
            },
            "marker": {
             "colorbar": {
              "outlinewidth": 0,
              "ticks": ""
             }
            },
            "type": "scatter3d"
           }
          ],
          "scattercarpet": [
           {
            "marker": {
             "colorbar": {
              "outlinewidth": 0,
              "ticks": ""
             }
            },
            "type": "scattercarpet"
           }
          ],
          "scattergeo": [
           {
            "marker": {
             "colorbar": {
              "outlinewidth": 0,
              "ticks": ""
             }
            },
            "type": "scattergeo"
           }
          ],
          "scattergl": [
           {
            "marker": {
             "colorbar": {
              "outlinewidth": 0,
              "ticks": ""
             }
            },
            "type": "scattergl"
           }
          ],
          "scattermapbox": [
           {
            "marker": {
             "colorbar": {
              "outlinewidth": 0,
              "ticks": ""
             }
            },
            "type": "scattermapbox"
           }
          ],
          "scatterpolar": [
           {
            "marker": {
             "colorbar": {
              "outlinewidth": 0,
              "ticks": ""
             }
            },
            "type": "scatterpolar"
           }
          ],
          "scatterpolargl": [
           {
            "marker": {
             "colorbar": {
              "outlinewidth": 0,
              "ticks": ""
             }
            },
            "type": "scatterpolargl"
           }
          ],
          "scatterternary": [
           {
            "marker": {
             "colorbar": {
              "outlinewidth": 0,
              "ticks": ""
             }
            },
            "type": "scatterternary"
           }
          ],
          "surface": [
           {
            "colorbar": {
             "outlinewidth": 0,
             "ticks": ""
            },
            "colorscale": [
             [
              0,
              "#0d0887"
             ],
             [
              0.1111111111111111,
              "#46039f"
             ],
             [
              0.2222222222222222,
              "#7201a8"
             ],
             [
              0.3333333333333333,
              "#9c179e"
             ],
             [
              0.4444444444444444,
              "#bd3786"
             ],
             [
              0.5555555555555556,
              "#d8576b"
             ],
             [
              0.6666666666666666,
              "#ed7953"
             ],
             [
              0.7777777777777778,
              "#fb9f3a"
             ],
             [
              0.8888888888888888,
              "#fdca26"
             ],
             [
              1,
              "#f0f921"
             ]
            ],
            "type": "surface"
           }
          ],
          "table": [
           {
            "cells": {
             "fill": {
              "color": "#EBF0F8"
             },
             "line": {
              "color": "white"
             }
            },
            "header": {
             "fill": {
              "color": "#C8D4E3"
             },
             "line": {
              "color": "white"
             }
            },
            "type": "table"
           }
          ]
         },
         "layout": {
          "annotationdefaults": {
           "arrowcolor": "#2a3f5f",
           "arrowhead": 0,
           "arrowwidth": 1
          },
          "autotypenumbers": "strict",
          "coloraxis": {
           "colorbar": {
            "outlinewidth": 0,
            "ticks": ""
           }
          },
          "colorscale": {
           "diverging": [
            [
             0,
             "#8e0152"
            ],
            [
             0.1,
             "#c51b7d"
            ],
            [
             0.2,
             "#de77ae"
            ],
            [
             0.3,
             "#f1b6da"
            ],
            [
             0.4,
             "#fde0ef"
            ],
            [
             0.5,
             "#f7f7f7"
            ],
            [
             0.6,
             "#e6f5d0"
            ],
            [
             0.7,
             "#b8e186"
            ],
            [
             0.8,
             "#7fbc41"
            ],
            [
             0.9,
             "#4d9221"
            ],
            [
             1,
             "#276419"
            ]
           ],
           "sequential": [
            [
             0,
             "#0d0887"
            ],
            [
             0.1111111111111111,
             "#46039f"
            ],
            [
             0.2222222222222222,
             "#7201a8"
            ],
            [
             0.3333333333333333,
             "#9c179e"
            ],
            [
             0.4444444444444444,
             "#bd3786"
            ],
            [
             0.5555555555555556,
             "#d8576b"
            ],
            [
             0.6666666666666666,
             "#ed7953"
            ],
            [
             0.7777777777777778,
             "#fb9f3a"
            ],
            [
             0.8888888888888888,
             "#fdca26"
            ],
            [
             1,
             "#f0f921"
            ]
           ],
           "sequentialminus": [
            [
             0,
             "#0d0887"
            ],
            [
             0.1111111111111111,
             "#46039f"
            ],
            [
             0.2222222222222222,
             "#7201a8"
            ],
            [
             0.3333333333333333,
             "#9c179e"
            ],
            [
             0.4444444444444444,
             "#bd3786"
            ],
            [
             0.5555555555555556,
             "#d8576b"
            ],
            [
             0.6666666666666666,
             "#ed7953"
            ],
            [
             0.7777777777777778,
             "#fb9f3a"
            ],
            [
             0.8888888888888888,
             "#fdca26"
            ],
            [
             1,
             "#f0f921"
            ]
           ]
          },
          "colorway": [
           "#636efa",
           "#EF553B",
           "#00cc96",
           "#ab63fa",
           "#FFA15A",
           "#19d3f3",
           "#FF6692",
           "#B6E880",
           "#FF97FF",
           "#FECB52"
          ],
          "font": {
           "color": "#2a3f5f"
          },
          "geo": {
           "bgcolor": "white",
           "lakecolor": "white",
           "landcolor": "#E5ECF6",
           "showlakes": true,
           "showland": true,
           "subunitcolor": "white"
          },
          "hoverlabel": {
           "align": "left"
          },
          "hovermode": "closest",
          "mapbox": {
           "style": "light"
          },
          "paper_bgcolor": "white",
          "plot_bgcolor": "#E5ECF6",
          "polar": {
           "angularaxis": {
            "gridcolor": "white",
            "linecolor": "white",
            "ticks": ""
           },
           "bgcolor": "#E5ECF6",
           "radialaxis": {
            "gridcolor": "white",
            "linecolor": "white",
            "ticks": ""
           }
          },
          "scene": {
           "xaxis": {
            "backgroundcolor": "#E5ECF6",
            "gridcolor": "white",
            "gridwidth": 2,
            "linecolor": "white",
            "showbackground": true,
            "ticks": "",
            "zerolinecolor": "white"
           },
           "yaxis": {
            "backgroundcolor": "#E5ECF6",
            "gridcolor": "white",
            "gridwidth": 2,
            "linecolor": "white",
            "showbackground": true,
            "ticks": "",
            "zerolinecolor": "white"
           },
           "zaxis": {
            "backgroundcolor": "#E5ECF6",
            "gridcolor": "white",
            "gridwidth": 2,
            "linecolor": "white",
            "showbackground": true,
            "ticks": "",
            "zerolinecolor": "white"
           }
          },
          "shapedefaults": {
           "line": {
            "color": "#2a3f5f"
           }
          },
          "ternary": {
           "aaxis": {
            "gridcolor": "white",
            "linecolor": "white",
            "ticks": ""
           },
           "baxis": {
            "gridcolor": "white",
            "linecolor": "white",
            "ticks": ""
           },
           "bgcolor": "#E5ECF6",
           "caxis": {
            "gridcolor": "white",
            "linecolor": "white",
            "ticks": ""
           }
          },
          "title": {
           "x": 0.05
          },
          "xaxis": {
           "automargin": true,
           "gridcolor": "white",
           "linecolor": "white",
           "ticks": "",
           "title": {
            "standoff": 15
           },
           "zerolinecolor": "white",
           "zerolinewidth": 2
          },
          "yaxis": {
           "automargin": true,
           "gridcolor": "white",
           "linecolor": "white",
           "ticks": "",
           "title": {
            "standoff": 15
           },
           "zerolinecolor": "white",
           "zerolinewidth": 2
          }
         }
        }
       }
      },
      "text/html": [
       "<div>                            <div id=\"7c7ef68f-c06a-4b82-bcdf-a8ca7ec05c22\" class=\"plotly-graph-div\" style=\"height:525px; width:100%;\"></div>            <script type=\"text/javascript\">                require([\"plotly\"], function(Plotly) {                    window.PLOTLYENV=window.PLOTLYENV || {};                                    if (document.getElementById(\"7c7ef68f-c06a-4b82-bcdf-a8ca7ec05c22\")) {                    Plotly.newPlot(                        \"7c7ef68f-c06a-4b82-bcdf-a8ca7ec05c22\",                        [{\"hovertemplate\":\"lat=%{lat}<br>long=%{lon}<extra></extra>\",\"lat\":[47.5112,47.721,47.7379,47.5208,47.6168,47.6561,47.3097,47.4095,47.5123,47.3684],\"legendgroup\":\"\",\"lon\":[-122.257,-122.319,-122.233,-122.393,-122.045,-122.005,-122.327,-122.315,-122.337,-122.031],\"marker\":{\"color\":\"#636efa\"},\"mode\":\"markers\",\"name\":\"\",\"showlegend\":false,\"subplot\":\"mapbox\",\"type\":\"scattermapbox\"}],                        {\"template\":{\"data\":{\"bar\":[{\"error_x\":{\"color\":\"#2a3f5f\"},\"error_y\":{\"color\":\"#2a3f5f\"},\"marker\":{\"line\":{\"color\":\"#E5ECF6\",\"width\":0.5},\"pattern\":{\"fillmode\":\"overlay\",\"size\":10,\"solidity\":0.2}},\"type\":\"bar\"}],\"barpolar\":[{\"marker\":{\"line\":{\"color\":\"#E5ECF6\",\"width\":0.5},\"pattern\":{\"fillmode\":\"overlay\",\"size\":10,\"solidity\":0.2}},\"type\":\"barpolar\"}],\"carpet\":[{\"aaxis\":{\"endlinecolor\":\"#2a3f5f\",\"gridcolor\":\"white\",\"linecolor\":\"white\",\"minorgridcolor\":\"white\",\"startlinecolor\":\"#2a3f5f\"},\"baxis\":{\"endlinecolor\":\"#2a3f5f\",\"gridcolor\":\"white\",\"linecolor\":\"white\",\"minorgridcolor\":\"white\",\"startlinecolor\":\"#2a3f5f\"},\"type\":\"carpet\"}],\"choropleth\":[{\"colorbar\":{\"outlinewidth\":0,\"ticks\":\"\"},\"type\":\"choropleth\"}],\"contour\":[{\"colorbar\":{\"outlinewidth\":0,\"ticks\":\"\"},\"colorscale\":[[0.0,\"#0d0887\"],[0.1111111111111111,\"#46039f\"],[0.2222222222222222,\"#7201a8\"],[0.3333333333333333,\"#9c179e\"],[0.4444444444444444,\"#bd3786\"],[0.5555555555555556,\"#d8576b\"],[0.6666666666666666,\"#ed7953\"],[0.7777777777777778,\"#fb9f3a\"],[0.8888888888888888,\"#fdca26\"],[1.0,\"#f0f921\"]],\"type\":\"contour\"}],\"contourcarpet\":[{\"colorbar\":{\"outlinewidth\":0,\"ticks\":\"\"},\"type\":\"contourcarpet\"}],\"heatmap\":[{\"colorbar\":{\"outlinewidth\":0,\"ticks\":\"\"},\"colorscale\":[[0.0,\"#0d0887\"],[0.1111111111111111,\"#46039f\"],[0.2222222222222222,\"#7201a8\"],[0.3333333333333333,\"#9c179e\"],[0.4444444444444444,\"#bd3786\"],[0.5555555555555556,\"#d8576b\"],[0.6666666666666666,\"#ed7953\"],[0.7777777777777778,\"#fb9f3a\"],[0.8888888888888888,\"#fdca26\"],[1.0,\"#f0f921\"]],\"type\":\"heatmap\"}],\"heatmapgl\":[{\"colorbar\":{\"outlinewidth\":0,\"ticks\":\"\"},\"colorscale\":[[0.0,\"#0d0887\"],[0.1111111111111111,\"#46039f\"],[0.2222222222222222,\"#7201a8\"],[0.3333333333333333,\"#9c179e\"],[0.4444444444444444,\"#bd3786\"],[0.5555555555555556,\"#d8576b\"],[0.6666666666666666,\"#ed7953\"],[0.7777777777777778,\"#fb9f3a\"],[0.8888888888888888,\"#fdca26\"],[1.0,\"#f0f921\"]],\"type\":\"heatmapgl\"}],\"histogram\":[{\"marker\":{\"pattern\":{\"fillmode\":\"overlay\",\"size\":10,\"solidity\":0.2}},\"type\":\"histogram\"}],\"histogram2d\":[{\"colorbar\":{\"outlinewidth\":0,\"ticks\":\"\"},\"colorscale\":[[0.0,\"#0d0887\"],[0.1111111111111111,\"#46039f\"],[0.2222222222222222,\"#7201a8\"],[0.3333333333333333,\"#9c179e\"],[0.4444444444444444,\"#bd3786\"],[0.5555555555555556,\"#d8576b\"],[0.6666666666666666,\"#ed7953\"],[0.7777777777777778,\"#fb9f3a\"],[0.8888888888888888,\"#fdca26\"],[1.0,\"#f0f921\"]],\"type\":\"histogram2d\"}],\"histogram2dcontour\":[{\"colorbar\":{\"outlinewidth\":0,\"ticks\":\"\"},\"colorscale\":[[0.0,\"#0d0887\"],[0.1111111111111111,\"#46039f\"],[0.2222222222222222,\"#7201a8\"],[0.3333333333333333,\"#9c179e\"],[0.4444444444444444,\"#bd3786\"],[0.5555555555555556,\"#d8576b\"],[0.6666666666666666,\"#ed7953\"],[0.7777777777777778,\"#fb9f3a\"],[0.8888888888888888,\"#fdca26\"],[1.0,\"#f0f921\"]],\"type\":\"histogram2dcontour\"}],\"mesh3d\":[{\"colorbar\":{\"outlinewidth\":0,\"ticks\":\"\"},\"type\":\"mesh3d\"}],\"parcoords\":[{\"line\":{\"colorbar\":{\"outlinewidth\":0,\"ticks\":\"\"}},\"type\":\"parcoords\"}],\"pie\":[{\"automargin\":true,\"type\":\"pie\"}],\"scatter\":[{\"marker\":{\"colorbar\":{\"outlinewidth\":0,\"ticks\":\"\"}},\"type\":\"scatter\"}],\"scatter3d\":[{\"line\":{\"colorbar\":{\"outlinewidth\":0,\"ticks\":\"\"}},\"marker\":{\"colorbar\":{\"outlinewidth\":0,\"ticks\":\"\"}},\"type\":\"scatter3d\"}],\"scattercarpet\":[{\"marker\":{\"colorbar\":{\"outlinewidth\":0,\"ticks\":\"\"}},\"type\":\"scattercarpet\"}],\"scattergeo\":[{\"marker\":{\"colorbar\":{\"outlinewidth\":0,\"ticks\":\"\"}},\"type\":\"scattergeo\"}],\"scattergl\":[{\"marker\":{\"colorbar\":{\"outlinewidth\":0,\"ticks\":\"\"}},\"type\":\"scattergl\"}],\"scattermapbox\":[{\"marker\":{\"colorbar\":{\"outlinewidth\":0,\"ticks\":\"\"}},\"type\":\"scattermapbox\"}],\"scatterpolar\":[{\"marker\":{\"colorbar\":{\"outlinewidth\":0,\"ticks\":\"\"}},\"type\":\"scatterpolar\"}],\"scatterpolargl\":[{\"marker\":{\"colorbar\":{\"outlinewidth\":0,\"ticks\":\"\"}},\"type\":\"scatterpolargl\"}],\"scatterternary\":[{\"marker\":{\"colorbar\":{\"outlinewidth\":0,\"ticks\":\"\"}},\"type\":\"scatterternary\"}],\"surface\":[{\"colorbar\":{\"outlinewidth\":0,\"ticks\":\"\"},\"colorscale\":[[0.0,\"#0d0887\"],[0.1111111111111111,\"#46039f\"],[0.2222222222222222,\"#7201a8\"],[0.3333333333333333,\"#9c179e\"],[0.4444444444444444,\"#bd3786\"],[0.5555555555555556,\"#d8576b\"],[0.6666666666666666,\"#ed7953\"],[0.7777777777777778,\"#fb9f3a\"],[0.8888888888888888,\"#fdca26\"],[1.0,\"#f0f921\"]],\"type\":\"surface\"}],\"table\":[{\"cells\":{\"fill\":{\"color\":\"#EBF0F8\"},\"line\":{\"color\":\"white\"}},\"header\":{\"fill\":{\"color\":\"#C8D4E3\"},\"line\":{\"color\":\"white\"}},\"type\":\"table\"}]},\"layout\":{\"annotationdefaults\":{\"arrowcolor\":\"#2a3f5f\",\"arrowhead\":0,\"arrowwidth\":1},\"autotypenumbers\":\"strict\",\"coloraxis\":{\"colorbar\":{\"outlinewidth\":0,\"ticks\":\"\"}},\"colorscale\":{\"diverging\":[[0,\"#8e0152\"],[0.1,\"#c51b7d\"],[0.2,\"#de77ae\"],[0.3,\"#f1b6da\"],[0.4,\"#fde0ef\"],[0.5,\"#f7f7f7\"],[0.6,\"#e6f5d0\"],[0.7,\"#b8e186\"],[0.8,\"#7fbc41\"],[0.9,\"#4d9221\"],[1,\"#276419\"]],\"sequential\":[[0.0,\"#0d0887\"],[0.1111111111111111,\"#46039f\"],[0.2222222222222222,\"#7201a8\"],[0.3333333333333333,\"#9c179e\"],[0.4444444444444444,\"#bd3786\"],[0.5555555555555556,\"#d8576b\"],[0.6666666666666666,\"#ed7953\"],[0.7777777777777778,\"#fb9f3a\"],[0.8888888888888888,\"#fdca26\"],[1.0,\"#f0f921\"]],\"sequentialminus\":[[0.0,\"#0d0887\"],[0.1111111111111111,\"#46039f\"],[0.2222222222222222,\"#7201a8\"],[0.3333333333333333,\"#9c179e\"],[0.4444444444444444,\"#bd3786\"],[0.5555555555555556,\"#d8576b\"],[0.6666666666666666,\"#ed7953\"],[0.7777777777777778,\"#fb9f3a\"],[0.8888888888888888,\"#fdca26\"],[1.0,\"#f0f921\"]]},\"colorway\":[\"#636efa\",\"#EF553B\",\"#00cc96\",\"#ab63fa\",\"#FFA15A\",\"#19d3f3\",\"#FF6692\",\"#B6E880\",\"#FF97FF\",\"#FECB52\"],\"font\":{\"color\":\"#2a3f5f\"},\"geo\":{\"bgcolor\":\"white\",\"lakecolor\":\"white\",\"landcolor\":\"#E5ECF6\",\"showlakes\":true,\"showland\":true,\"subunitcolor\":\"white\"},\"hoverlabel\":{\"align\":\"left\"},\"hovermode\":\"closest\",\"mapbox\":{\"style\":\"light\"},\"paper_bgcolor\":\"white\",\"plot_bgcolor\":\"#E5ECF6\",\"polar\":{\"angularaxis\":{\"gridcolor\":\"white\",\"linecolor\":\"white\",\"ticks\":\"\"},\"bgcolor\":\"#E5ECF6\",\"radialaxis\":{\"gridcolor\":\"white\",\"linecolor\":\"white\",\"ticks\":\"\"}},\"scene\":{\"xaxis\":{\"backgroundcolor\":\"#E5ECF6\",\"gridcolor\":\"white\",\"gridwidth\":2,\"linecolor\":\"white\",\"showbackground\":true,\"ticks\":\"\",\"zerolinecolor\":\"white\"},\"yaxis\":{\"backgroundcolor\":\"#E5ECF6\",\"gridcolor\":\"white\",\"gridwidth\":2,\"linecolor\":\"white\",\"showbackground\":true,\"ticks\":\"\",\"zerolinecolor\":\"white\"},\"zaxis\":{\"backgroundcolor\":\"#E5ECF6\",\"gridcolor\":\"white\",\"gridwidth\":2,\"linecolor\":\"white\",\"showbackground\":true,\"ticks\":\"\",\"zerolinecolor\":\"white\"}},\"shapedefaults\":{\"line\":{\"color\":\"#2a3f5f\"}},\"ternary\":{\"aaxis\":{\"gridcolor\":\"white\",\"linecolor\":\"white\",\"ticks\":\"\"},\"baxis\":{\"gridcolor\":\"white\",\"linecolor\":\"white\",\"ticks\":\"\"},\"bgcolor\":\"#E5ECF6\",\"caxis\":{\"gridcolor\":\"white\",\"linecolor\":\"white\",\"ticks\":\"\"}},\"title\":{\"x\":0.05},\"xaxis\":{\"automargin\":true,\"gridcolor\":\"white\",\"linecolor\":\"white\",\"ticks\":\"\",\"title\":{\"standoff\":15},\"zerolinecolor\":\"white\",\"zerolinewidth\":2},\"yaxis\":{\"automargin\":true,\"gridcolor\":\"white\",\"linecolor\":\"white\",\"ticks\":\"\",\"title\":{\"standoff\":15},\"zerolinecolor\":\"white\",\"zerolinewidth\":2}}},\"mapbox\":{\"domain\":{\"x\":[0.0,1.0],\"y\":[0.0,1.0]},\"center\":{\"lat\":47.53637,\"lon\":-122.22619999999999},\"zoom\":15},\"legend\":{\"tracegroupgap\":0},\"margin\":{\"t\":60}},                        {\"responsive\": true}                    ).then(function(){\n",
       "                            \n",
       "var gd = document.getElementById('7c7ef68f-c06a-4b82-bcdf-a8ca7ec05c22');\n",
       "var x = new MutationObserver(function (mutations, observer) {{\n",
       "        var display = window.getComputedStyle(gd).display;\n",
       "        if (!display || display === 'none') {{\n",
       "            console.log([gd, 'removed!']);\n",
       "            Plotly.purge(gd);\n",
       "            observer.disconnect();\n",
       "        }}\n",
       "}});\n",
       "\n",
       "// Listen for the removal of the full notebook cells\n",
       "var notebookContainer = gd.closest('#notebook-container');\n",
       "if (notebookContainer) {{\n",
       "    x.observe(notebookContainer, {childList: true});\n",
       "}}\n",
       "\n",
       "// Listen for the clearing of the current output cell\n",
       "var outputEl = gd.closest('.output');\n",
       "if (outputEl) {{\n",
       "    x.observe(outputEl, {childList: true});\n",
       "}}\n",
       "\n",
       "                        })                };                });            </script>        </div>"
      ]
     },
     "metadata": {},
     "output_type": "display_data"
    }
   ],
   "source": [
    "import plotly_express as px\n",
    "px.scatter_mapbox(df_addr, lat='lat', lon='long', zoom=15)"
   ]
  },
  {
   "cell_type": "code",
   "execution_count": 50,
   "id": "374ae6ab",
   "metadata": {},
   "outputs": [
    {
     "name": "stderr",
     "output_type": "stream",
     "text": [
      "<ipython-input-50-97c50bdc94e6>:1: SettingWithCopyWarning:\n",
      "\n",
      "\n",
      "A value is trying to be set on a copy of a slice from a DataFrame.\n",
      "Try using .loc[row_indexer,col_indexer] = value instead\n",
      "\n",
      "See the caveats in the documentation: https://pandas.pydata.org/pandas-docs/stable/user_guide/indexing.html#returning-a-view-versus-a-copy\n",
      "\n"
     ]
    },
    {
     "data": {
      "text/html": [
       "<div>\n",
       "<style scoped>\n",
       "    .dataframe tbody tr th:only-of-type {\n",
       "        vertical-align: middle;\n",
       "    }\n",
       "\n",
       "    .dataframe tbody tr th {\n",
       "        vertical-align: top;\n",
       "    }\n",
       "\n",
       "    .dataframe thead th {\n",
       "        text-align: right;\n",
       "    }\n",
       "</style>\n",
       "<table border=\"1\" class=\"dataframe\">\n",
       "  <thead>\n",
       "    <tr style=\"text-align: right;\">\n",
       "      <th></th>\n",
       "      <th>id</th>\n",
       "      <th>date</th>\n",
       "      <th>bedrooms</th>\n",
       "      <th>bathrooms</th>\n",
       "      <th>sqft_living</th>\n",
       "      <th>sqft_lot</th>\n",
       "      <th>floors</th>\n",
       "      <th>waterfront</th>\n",
       "      <th>view</th>\n",
       "      <th>condition</th>\n",
       "      <th>...</th>\n",
       "      <th>yr_renovated</th>\n",
       "      <th>zipcode</th>\n",
       "      <th>lat</th>\n",
       "      <th>long</th>\n",
       "      <th>sqft_living15</th>\n",
       "      <th>sqft_lot15</th>\n",
       "      <th>price</th>\n",
       "      <th>renovation_cat</th>\n",
       "      <th>basement_size</th>\n",
       "      <th>coords</th>\n",
       "    </tr>\n",
       "  </thead>\n",
       "  <tbody>\n",
       "    <tr>\n",
       "      <th>0</th>\n",
       "      <td>7129300520</td>\n",
       "      <td>2014-10-13</td>\n",
       "      <td>3</td>\n",
       "      <td>1.00</td>\n",
       "      <td>1180</td>\n",
       "      <td>5650</td>\n",
       "      <td>1.0</td>\n",
       "      <td>0</td>\n",
       "      <td>0</td>\n",
       "      <td>3</td>\n",
       "      <td>...</td>\n",
       "      <td>0</td>\n",
       "      <td>98178</td>\n",
       "      <td>47.5112</td>\n",
       "      <td>-122.257</td>\n",
       "      <td>1340</td>\n",
       "      <td>5650</td>\n",
       "      <td>221900</td>\n",
       "      <td>not relevant</td>\n",
       "      <td>none</td>\n",
       "      <td>47.5112,-122.257</td>\n",
       "    </tr>\n",
       "    <tr>\n",
       "      <th>1</th>\n",
       "      <td>6414100192</td>\n",
       "      <td>2014-12-09</td>\n",
       "      <td>3</td>\n",
       "      <td>2.25</td>\n",
       "      <td>2570</td>\n",
       "      <td>7242</td>\n",
       "      <td>2.0</td>\n",
       "      <td>0</td>\n",
       "      <td>0</td>\n",
       "      <td>3</td>\n",
       "      <td>...</td>\n",
       "      <td>1991</td>\n",
       "      <td>98125</td>\n",
       "      <td>47.7210</td>\n",
       "      <td>-122.319</td>\n",
       "      <td>1690</td>\n",
       "      <td>7639</td>\n",
       "      <td>538000</td>\n",
       "      <td>distant</td>\n",
       "      <td>medium</td>\n",
       "      <td>47.721,-122.319</td>\n",
       "    </tr>\n",
       "    <tr>\n",
       "      <th>2</th>\n",
       "      <td>5631500400</td>\n",
       "      <td>2015-02-25</td>\n",
       "      <td>2</td>\n",
       "      <td>1.00</td>\n",
       "      <td>770</td>\n",
       "      <td>10000</td>\n",
       "      <td>1.0</td>\n",
       "      <td>0</td>\n",
       "      <td>0</td>\n",
       "      <td>3</td>\n",
       "      <td>...</td>\n",
       "      <td>0</td>\n",
       "      <td>98028</td>\n",
       "      <td>47.7379</td>\n",
       "      <td>-122.233</td>\n",
       "      <td>2720</td>\n",
       "      <td>8062</td>\n",
       "      <td>180000</td>\n",
       "      <td>not relevant</td>\n",
       "      <td>none</td>\n",
       "      <td>47.7379,-122.233</td>\n",
       "    </tr>\n",
       "    <tr>\n",
       "      <th>3</th>\n",
       "      <td>2487200875</td>\n",
       "      <td>2014-12-09</td>\n",
       "      <td>4</td>\n",
       "      <td>3.00</td>\n",
       "      <td>1960</td>\n",
       "      <td>5000</td>\n",
       "      <td>1.0</td>\n",
       "      <td>0</td>\n",
       "      <td>0</td>\n",
       "      <td>5</td>\n",
       "      <td>...</td>\n",
       "      <td>0</td>\n",
       "      <td>98136</td>\n",
       "      <td>47.5208</td>\n",
       "      <td>-122.393</td>\n",
       "      <td>1360</td>\n",
       "      <td>5000</td>\n",
       "      <td>604000</td>\n",
       "      <td>not relevant</td>\n",
       "      <td>large</td>\n",
       "      <td>47.5208,-122.393</td>\n",
       "    </tr>\n",
       "    <tr>\n",
       "      <th>4</th>\n",
       "      <td>1954400510</td>\n",
       "      <td>2015-02-18</td>\n",
       "      <td>3</td>\n",
       "      <td>2.00</td>\n",
       "      <td>1680</td>\n",
       "      <td>8080</td>\n",
       "      <td>1.0</td>\n",
       "      <td>0</td>\n",
       "      <td>0</td>\n",
       "      <td>3</td>\n",
       "      <td>...</td>\n",
       "      <td>0</td>\n",
       "      <td>98074</td>\n",
       "      <td>47.6168</td>\n",
       "      <td>-122.045</td>\n",
       "      <td>1800</td>\n",
       "      <td>7503</td>\n",
       "      <td>510000</td>\n",
       "      <td>not relevant</td>\n",
       "      <td>none</td>\n",
       "      <td>47.6168,-122.045</td>\n",
       "    </tr>\n",
       "    <tr>\n",
       "      <th>5</th>\n",
       "      <td>7237550310</td>\n",
       "      <td>2014-05-12</td>\n",
       "      <td>4</td>\n",
       "      <td>4.50</td>\n",
       "      <td>5420</td>\n",
       "      <td>101930</td>\n",
       "      <td>1.0</td>\n",
       "      <td>0</td>\n",
       "      <td>0</td>\n",
       "      <td>3</td>\n",
       "      <td>...</td>\n",
       "      <td>0</td>\n",
       "      <td>98053</td>\n",
       "      <td>47.6561</td>\n",
       "      <td>-122.005</td>\n",
       "      <td>4760</td>\n",
       "      <td>101930</td>\n",
       "      <td>1230000</td>\n",
       "      <td>not relevant</td>\n",
       "      <td>large</td>\n",
       "      <td>47.6561,-122.005</td>\n",
       "    </tr>\n",
       "    <tr>\n",
       "      <th>6</th>\n",
       "      <td>1321400060</td>\n",
       "      <td>2014-06-27</td>\n",
       "      <td>3</td>\n",
       "      <td>2.25</td>\n",
       "      <td>1715</td>\n",
       "      <td>6819</td>\n",
       "      <td>2.0</td>\n",
       "      <td>0</td>\n",
       "      <td>0</td>\n",
       "      <td>3</td>\n",
       "      <td>...</td>\n",
       "      <td>0</td>\n",
       "      <td>98003</td>\n",
       "      <td>47.3097</td>\n",
       "      <td>-122.327</td>\n",
       "      <td>2238</td>\n",
       "      <td>6819</td>\n",
       "      <td>257500</td>\n",
       "      <td>not relevant</td>\n",
       "      <td>none</td>\n",
       "      <td>47.3097,-122.327</td>\n",
       "    </tr>\n",
       "    <tr>\n",
       "      <th>7</th>\n",
       "      <td>2008000270</td>\n",
       "      <td>2015-01-15</td>\n",
       "      <td>3</td>\n",
       "      <td>1.50</td>\n",
       "      <td>1060</td>\n",
       "      <td>9711</td>\n",
       "      <td>1.0</td>\n",
       "      <td>0</td>\n",
       "      <td>0</td>\n",
       "      <td>3</td>\n",
       "      <td>...</td>\n",
       "      <td>0</td>\n",
       "      <td>98198</td>\n",
       "      <td>47.4095</td>\n",
       "      <td>-122.315</td>\n",
       "      <td>1650</td>\n",
       "      <td>9711</td>\n",
       "      <td>291850</td>\n",
       "      <td>not relevant</td>\n",
       "      <td>none</td>\n",
       "      <td>47.4095,-122.315</td>\n",
       "    </tr>\n",
       "    <tr>\n",
       "      <th>8</th>\n",
       "      <td>2414600126</td>\n",
       "      <td>2015-04-15</td>\n",
       "      <td>3</td>\n",
       "      <td>1.00</td>\n",
       "      <td>1780</td>\n",
       "      <td>7470</td>\n",
       "      <td>1.0</td>\n",
       "      <td>0</td>\n",
       "      <td>0</td>\n",
       "      <td>3</td>\n",
       "      <td>...</td>\n",
       "      <td>0</td>\n",
       "      <td>98146</td>\n",
       "      <td>47.5123</td>\n",
       "      <td>-122.337</td>\n",
       "      <td>1780</td>\n",
       "      <td>8113</td>\n",
       "      <td>229500</td>\n",
       "      <td>not relevant</td>\n",
       "      <td>large</td>\n",
       "      <td>47.5123,-122.337</td>\n",
       "    </tr>\n",
       "    <tr>\n",
       "      <th>9</th>\n",
       "      <td>3793500160</td>\n",
       "      <td>2015-03-12</td>\n",
       "      <td>3</td>\n",
       "      <td>2.50</td>\n",
       "      <td>1890</td>\n",
       "      <td>6560</td>\n",
       "      <td>2.0</td>\n",
       "      <td>0</td>\n",
       "      <td>0</td>\n",
       "      <td>3</td>\n",
       "      <td>...</td>\n",
       "      <td>0</td>\n",
       "      <td>98038</td>\n",
       "      <td>47.3684</td>\n",
       "      <td>-122.031</td>\n",
       "      <td>2390</td>\n",
       "      <td>7570</td>\n",
       "      <td>323000</td>\n",
       "      <td>not relevant</td>\n",
       "      <td>none</td>\n",
       "      <td>47.3684,-122.031</td>\n",
       "    </tr>\n",
       "  </tbody>\n",
       "</table>\n",
       "<p>10 rows × 24 columns</p>\n",
       "</div>"
      ],
      "text/plain": [
       "           id       date  bedrooms  bathrooms  sqft_living  sqft_lot  floors  \\\n",
       "0  7129300520 2014-10-13         3       1.00         1180      5650     1.0   \n",
       "1  6414100192 2014-12-09         3       2.25         2570      7242     2.0   \n",
       "2  5631500400 2015-02-25         2       1.00          770     10000     1.0   \n",
       "3  2487200875 2014-12-09         4       3.00         1960      5000     1.0   \n",
       "4  1954400510 2015-02-18         3       2.00         1680      8080     1.0   \n",
       "5  7237550310 2014-05-12         4       4.50         5420    101930     1.0   \n",
       "6  1321400060 2014-06-27         3       2.25         1715      6819     2.0   \n",
       "7  2008000270 2015-01-15         3       1.50         1060      9711     1.0   \n",
       "8  2414600126 2015-04-15         3       1.00         1780      7470     1.0   \n",
       "9  3793500160 2015-03-12         3       2.50         1890      6560     2.0   \n",
       "\n",
       "   waterfront  view  condition  ...  yr_renovated  zipcode      lat     long  \\\n",
       "0           0     0          3  ...             0    98178  47.5112 -122.257   \n",
       "1           0     0          3  ...          1991    98125  47.7210 -122.319   \n",
       "2           0     0          3  ...             0    98028  47.7379 -122.233   \n",
       "3           0     0          5  ...             0    98136  47.5208 -122.393   \n",
       "4           0     0          3  ...             0    98074  47.6168 -122.045   \n",
       "5           0     0          3  ...             0    98053  47.6561 -122.005   \n",
       "6           0     0          3  ...             0    98003  47.3097 -122.327   \n",
       "7           0     0          3  ...             0    98198  47.4095 -122.315   \n",
       "8           0     0          3  ...             0    98146  47.5123 -122.337   \n",
       "9           0     0          3  ...             0    98038  47.3684 -122.031   \n",
       "\n",
       "   sqft_living15  sqft_lot15    price  renovation_cat  basement_size  \\\n",
       "0           1340        5650   221900    not relevant           none   \n",
       "1           1690        7639   538000         distant         medium   \n",
       "2           2720        8062   180000    not relevant           none   \n",
       "3           1360        5000   604000    not relevant          large   \n",
       "4           1800        7503   510000    not relevant           none   \n",
       "5           4760      101930  1230000    not relevant          large   \n",
       "6           2238        6819   257500    not relevant           none   \n",
       "7           1650        9711   291850    not relevant           none   \n",
       "8           1780        8113   229500    not relevant          large   \n",
       "9           2390        7570   323000    not relevant           none   \n",
       "\n",
       "             coords  \n",
       "0  47.5112,-122.257  \n",
       "1   47.721,-122.319  \n",
       "2  47.7379,-122.233  \n",
       "3  47.5208,-122.393  \n",
       "4  47.6168,-122.045  \n",
       "5  47.6561,-122.005  \n",
       "6  47.3097,-122.327  \n",
       "7  47.4095,-122.315  \n",
       "8  47.5123,-122.337  \n",
       "9  47.3684,-122.031  \n",
       "\n",
       "[10 rows x 24 columns]"
      ]
     },
     "execution_count": 50,
     "metadata": {},
     "output_type": "execute_result"
    }
   ],
   "source": [
    "df_addr['coords'] = df_addr['lat'].map(str) +',' + df_addr['long'].map(str)\n",
    "df_addr"
   ]
  },
  {
   "cell_type": "code",
   "execution_count": 51,
   "id": "ef6f5e2a",
   "metadata": {},
   "outputs": [],
   "source": [
    "from geopy.extra.rate_limiter import RateLimiter\n",
    "locator = Nominatim(user_agent='myGeocoder', timeout=10)\n",
    "rgeocode = RateLimiter(locator.reverse, min_delay_seconds=0.001)"
   ]
  },
  {
   "cell_type": "code",
   "execution_count": 52,
   "id": "04994217",
   "metadata": {},
   "outputs": [],
   "source": [
    "#Optional - import progress bar\n",
    "# import tqdm\n",
    "# from tqdm._tqdm_notebook import tqdm_notebook"
   ]
  },
  {
   "cell_type": "code",
   "execution_count": 53,
   "id": "e10cd8f7",
   "metadata": {},
   "outputs": [
    {
     "name": "stderr",
     "output_type": "stream",
     "text": [
      "<ipython-input-53-e5f5018b95e8>:1: SettingWithCopyWarning:\n",
      "\n",
      "\n",
      "A value is trying to be set on a copy of a slice from a DataFrame.\n",
      "Try using .loc[row_indexer,col_indexer] = value instead\n",
      "\n",
      "See the caveats in the documentation: https://pandas.pydata.org/pandas-docs/stable/user_guide/indexing.html#returning-a-view-versus-a-copy\n",
      "\n"
     ]
    },
    {
     "data": {
      "text/html": [
       "<div>\n",
       "<style scoped>\n",
       "    .dataframe tbody tr th:only-of-type {\n",
       "        vertical-align: middle;\n",
       "    }\n",
       "\n",
       "    .dataframe tbody tr th {\n",
       "        vertical-align: top;\n",
       "    }\n",
       "\n",
       "    .dataframe thead th {\n",
       "        text-align: right;\n",
       "    }\n",
       "</style>\n",
       "<table border=\"1\" class=\"dataframe\">\n",
       "  <thead>\n",
       "    <tr style=\"text-align: right;\">\n",
       "      <th></th>\n",
       "      <th>id</th>\n",
       "      <th>date</th>\n",
       "      <th>bedrooms</th>\n",
       "      <th>bathrooms</th>\n",
       "      <th>sqft_living</th>\n",
       "      <th>sqft_lot</th>\n",
       "      <th>floors</th>\n",
       "      <th>waterfront</th>\n",
       "      <th>view</th>\n",
       "      <th>condition</th>\n",
       "      <th>...</th>\n",
       "      <th>zipcode</th>\n",
       "      <th>lat</th>\n",
       "      <th>long</th>\n",
       "      <th>sqft_living15</th>\n",
       "      <th>sqft_lot15</th>\n",
       "      <th>price</th>\n",
       "      <th>renovation_cat</th>\n",
       "      <th>basement_size</th>\n",
       "      <th>coords</th>\n",
       "      <th>address</th>\n",
       "    </tr>\n",
       "  </thead>\n",
       "  <tbody>\n",
       "    <tr>\n",
       "      <th>0</th>\n",
       "      <td>7129300520</td>\n",
       "      <td>2014-10-13</td>\n",
       "      <td>3</td>\n",
       "      <td>1.00</td>\n",
       "      <td>1180</td>\n",
       "      <td>5650</td>\n",
       "      <td>1.0</td>\n",
       "      <td>0</td>\n",
       "      <td>0</td>\n",
       "      <td>3</td>\n",
       "      <td>...</td>\n",
       "      <td>98178</td>\n",
       "      <td>47.5112</td>\n",
       "      <td>-122.257</td>\n",
       "      <td>1340</td>\n",
       "      <td>5650</td>\n",
       "      <td>221900</td>\n",
       "      <td>not relevant</td>\n",
       "      <td>none</td>\n",
       "      <td>47.5112,-122.257</td>\n",
       "      <td>(10012, 61st Avenue South, Rainier Beach, Seat...</td>\n",
       "    </tr>\n",
       "    <tr>\n",
       "      <th>1</th>\n",
       "      <td>6414100192</td>\n",
       "      <td>2014-12-09</td>\n",
       "      <td>3</td>\n",
       "      <td>2.25</td>\n",
       "      <td>2570</td>\n",
       "      <td>7242</td>\n",
       "      <td>2.0</td>\n",
       "      <td>0</td>\n",
       "      <td>0</td>\n",
       "      <td>3</td>\n",
       "      <td>...</td>\n",
       "      <td>98125</td>\n",
       "      <td>47.7210</td>\n",
       "      <td>-122.319</td>\n",
       "      <td>1690</td>\n",
       "      <td>7639</td>\n",
       "      <td>538000</td>\n",
       "      <td>distant</td>\n",
       "      <td>medium</td>\n",
       "      <td>47.721,-122.319</td>\n",
       "      <td>(837, Northeast 127th Street, Northgate, Seatt...</td>\n",
       "    </tr>\n",
       "    <tr>\n",
       "      <th>2</th>\n",
       "      <td>5631500400</td>\n",
       "      <td>2015-02-25</td>\n",
       "      <td>2</td>\n",
       "      <td>1.00</td>\n",
       "      <td>770</td>\n",
       "      <td>10000</td>\n",
       "      <td>1.0</td>\n",
       "      <td>0</td>\n",
       "      <td>0</td>\n",
       "      <td>3</td>\n",
       "      <td>...</td>\n",
       "      <td>98028</td>\n",
       "      <td>47.7379</td>\n",
       "      <td>-122.233</td>\n",
       "      <td>2720</td>\n",
       "      <td>8062</td>\n",
       "      <td>180000</td>\n",
       "      <td>not relevant</td>\n",
       "      <td>none</td>\n",
       "      <td>47.7379,-122.233</td>\n",
       "      <td>(15109, 81st Avenue Northeast, Moorlands, Kenm...</td>\n",
       "    </tr>\n",
       "    <tr>\n",
       "      <th>3</th>\n",
       "      <td>2487200875</td>\n",
       "      <td>2014-12-09</td>\n",
       "      <td>4</td>\n",
       "      <td>3.00</td>\n",
       "      <td>1960</td>\n",
       "      <td>5000</td>\n",
       "      <td>1.0</td>\n",
       "      <td>0</td>\n",
       "      <td>0</td>\n",
       "      <td>5</td>\n",
       "      <td>...</td>\n",
       "      <td>98136</td>\n",
       "      <td>47.5208</td>\n",
       "      <td>-122.393</td>\n",
       "      <td>1360</td>\n",
       "      <td>5000</td>\n",
       "      <td>604000</td>\n",
       "      <td>not relevant</td>\n",
       "      <td>large</td>\n",
       "      <td>47.5208,-122.393</td>\n",
       "      <td>(9236, Fauntleroy Way Southwest, Fauntleroy, S...</td>\n",
       "    </tr>\n",
       "    <tr>\n",
       "      <th>4</th>\n",
       "      <td>1954400510</td>\n",
       "      <td>2015-02-18</td>\n",
       "      <td>3</td>\n",
       "      <td>2.00</td>\n",
       "      <td>1680</td>\n",
       "      <td>8080</td>\n",
       "      <td>1.0</td>\n",
       "      <td>0</td>\n",
       "      <td>0</td>\n",
       "      <td>3</td>\n",
       "      <td>...</td>\n",
       "      <td>98074</td>\n",
       "      <td>47.6168</td>\n",
       "      <td>-122.045</td>\n",
       "      <td>1800</td>\n",
       "      <td>7503</td>\n",
       "      <td>510000</td>\n",
       "      <td>not relevant</td>\n",
       "      <td>none</td>\n",
       "      <td>47.6168,-122.045</td>\n",
       "      <td>(923, 221st Avenue Northeast, Sammamish, King ...</td>\n",
       "    </tr>\n",
       "    <tr>\n",
       "      <th>5</th>\n",
       "      <td>7237550310</td>\n",
       "      <td>2014-05-12</td>\n",
       "      <td>4</td>\n",
       "      <td>4.50</td>\n",
       "      <td>5420</td>\n",
       "      <td>101930</td>\n",
       "      <td>1.0</td>\n",
       "      <td>0</td>\n",
       "      <td>0</td>\n",
       "      <td>3</td>\n",
       "      <td>...</td>\n",
       "      <td>98053</td>\n",
       "      <td>47.6561</td>\n",
       "      <td>-122.005</td>\n",
       "      <td>4760</td>\n",
       "      <td>101930</td>\n",
       "      <td>1230000</td>\n",
       "      <td>not relevant</td>\n",
       "      <td>large</td>\n",
       "      <td>47.6561,-122.005</td>\n",
       "      <td>(25005, Northeast Patterson Way, Union Hill-No...</td>\n",
       "    </tr>\n",
       "    <tr>\n",
       "      <th>6</th>\n",
       "      <td>1321400060</td>\n",
       "      <td>2014-06-27</td>\n",
       "      <td>3</td>\n",
       "      <td>2.25</td>\n",
       "      <td>1715</td>\n",
       "      <td>6819</td>\n",
       "      <td>2.0</td>\n",
       "      <td>0</td>\n",
       "      <td>0</td>\n",
       "      <td>3</td>\n",
       "      <td>...</td>\n",
       "      <td>98003</td>\n",
       "      <td>47.3097</td>\n",
       "      <td>-122.327</td>\n",
       "      <td>2238</td>\n",
       "      <td>6819</td>\n",
       "      <td>257500</td>\n",
       "      <td>not relevant</td>\n",
       "      <td>none</td>\n",
       "      <td>47.3097,-122.327</td>\n",
       "      <td>(533, South 330th Place, Federal Way, King Cou...</td>\n",
       "    </tr>\n",
       "    <tr>\n",
       "      <th>7</th>\n",
       "      <td>2008000270</td>\n",
       "      <td>2015-01-15</td>\n",
       "      <td>3</td>\n",
       "      <td>1.50</td>\n",
       "      <td>1060</td>\n",
       "      <td>9711</td>\n",
       "      <td>1.0</td>\n",
       "      <td>0</td>\n",
       "      <td>0</td>\n",
       "      <td>3</td>\n",
       "      <td>...</td>\n",
       "      <td>98198</td>\n",
       "      <td>47.4095</td>\n",
       "      <td>-122.315</td>\n",
       "      <td>1650</td>\n",
       "      <td>9711</td>\n",
       "      <td>291850</td>\n",
       "      <td>not relevant</td>\n",
       "      <td>none</td>\n",
       "      <td>47.4095,-122.315</td>\n",
       "      <td>(21421, 14th Avenue South, Des Moines Creek, D...</td>\n",
       "    </tr>\n",
       "    <tr>\n",
       "      <th>8</th>\n",
       "      <td>2414600126</td>\n",
       "      <td>2015-04-15</td>\n",
       "      <td>3</td>\n",
       "      <td>1.00</td>\n",
       "      <td>1780</td>\n",
       "      <td>7470</td>\n",
       "      <td>1.0</td>\n",
       "      <td>0</td>\n",
       "      <td>0</td>\n",
       "      <td>3</td>\n",
       "      <td>...</td>\n",
       "      <td>98146</td>\n",
       "      <td>47.5123</td>\n",
       "      <td>-122.337</td>\n",
       "      <td>1780</td>\n",
       "      <td>8113</td>\n",
       "      <td>229500</td>\n",
       "      <td>not relevant</td>\n",
       "      <td>large</td>\n",
       "      <td>47.5123,-122.337</td>\n",
       "      <td>(216, Southwest 102nd Street, White Center, Se...</td>\n",
       "    </tr>\n",
       "    <tr>\n",
       "      <th>9</th>\n",
       "      <td>3793500160</td>\n",
       "      <td>2015-03-12</td>\n",
       "      <td>3</td>\n",
       "      <td>2.50</td>\n",
       "      <td>1890</td>\n",
       "      <td>6560</td>\n",
       "      <td>2.0</td>\n",
       "      <td>0</td>\n",
       "      <td>0</td>\n",
       "      <td>3</td>\n",
       "      <td>...</td>\n",
       "      <td>98038</td>\n",
       "      <td>47.3684</td>\n",
       "      <td>-122.031</td>\n",
       "      <td>2390</td>\n",
       "      <td>7570</td>\n",
       "      <td>323000</td>\n",
       "      <td>not relevant</td>\n",
       "      <td>none</td>\n",
       "      <td>47.3684,-122.031</td>\n",
       "      <td>(26007, 232nd Place Southeast, Katesridge, Dan...</td>\n",
       "    </tr>\n",
       "  </tbody>\n",
       "</table>\n",
       "<p>10 rows × 25 columns</p>\n",
       "</div>"
      ],
      "text/plain": [
       "           id       date  bedrooms  bathrooms  sqft_living  sqft_lot  floors  \\\n",
       "0  7129300520 2014-10-13         3       1.00         1180      5650     1.0   \n",
       "1  6414100192 2014-12-09         3       2.25         2570      7242     2.0   \n",
       "2  5631500400 2015-02-25         2       1.00          770     10000     1.0   \n",
       "3  2487200875 2014-12-09         4       3.00         1960      5000     1.0   \n",
       "4  1954400510 2015-02-18         3       2.00         1680      8080     1.0   \n",
       "5  7237550310 2014-05-12         4       4.50         5420    101930     1.0   \n",
       "6  1321400060 2014-06-27         3       2.25         1715      6819     2.0   \n",
       "7  2008000270 2015-01-15         3       1.50         1060      9711     1.0   \n",
       "8  2414600126 2015-04-15         3       1.00         1780      7470     1.0   \n",
       "9  3793500160 2015-03-12         3       2.50         1890      6560     2.0   \n",
       "\n",
       "   waterfront  view  condition  ...  zipcode      lat     long  sqft_living15  \\\n",
       "0           0     0          3  ...    98178  47.5112 -122.257           1340   \n",
       "1           0     0          3  ...    98125  47.7210 -122.319           1690   \n",
       "2           0     0          3  ...    98028  47.7379 -122.233           2720   \n",
       "3           0     0          5  ...    98136  47.5208 -122.393           1360   \n",
       "4           0     0          3  ...    98074  47.6168 -122.045           1800   \n",
       "5           0     0          3  ...    98053  47.6561 -122.005           4760   \n",
       "6           0     0          3  ...    98003  47.3097 -122.327           2238   \n",
       "7           0     0          3  ...    98198  47.4095 -122.315           1650   \n",
       "8           0     0          3  ...    98146  47.5123 -122.337           1780   \n",
       "9           0     0          3  ...    98038  47.3684 -122.031           2390   \n",
       "\n",
       "   sqft_lot15    price  renovation_cat  basement_size            coords  \\\n",
       "0        5650   221900    not relevant           none  47.5112,-122.257   \n",
       "1        7639   538000         distant         medium   47.721,-122.319   \n",
       "2        8062   180000    not relevant           none  47.7379,-122.233   \n",
       "3        5000   604000    not relevant          large  47.5208,-122.393   \n",
       "4        7503   510000    not relevant           none  47.6168,-122.045   \n",
       "5      101930  1230000    not relevant          large  47.6561,-122.005   \n",
       "6        6819   257500    not relevant           none  47.3097,-122.327   \n",
       "7        9711   291850    not relevant           none  47.4095,-122.315   \n",
       "8        8113   229500    not relevant          large  47.5123,-122.337   \n",
       "9        7570   323000    not relevant           none  47.3684,-122.031   \n",
       "\n",
       "                                             address  \n",
       "0  (10012, 61st Avenue South, Rainier Beach, Seat...  \n",
       "1  (837, Northeast 127th Street, Northgate, Seatt...  \n",
       "2  (15109, 81st Avenue Northeast, Moorlands, Kenm...  \n",
       "3  (9236, Fauntleroy Way Southwest, Fauntleroy, S...  \n",
       "4  (923, 221st Avenue Northeast, Sammamish, King ...  \n",
       "5  (25005, Northeast Patterson Way, Union Hill-No...  \n",
       "6  (533, South 330th Place, Federal Way, King Cou...  \n",
       "7  (21421, 14th Avenue South, Des Moines Creek, D...  \n",
       "8  (216, Southwest 102nd Street, White Center, Se...  \n",
       "9  (26007, 232nd Place Southeast, Katesridge, Dan...  \n",
       "\n",
       "[10 rows x 25 columns]"
      ]
     },
     "execution_count": 53,
     "metadata": {},
     "output_type": "execute_result"
    }
   ],
   "source": [
    "df_addr['address'] = df_addr['coords'].apply(rgeocode)\n",
    "df_addr.head(10)"
   ]
  },
  {
   "cell_type": "code",
   "execution_count": 54,
   "id": "277c874d",
   "metadata": {},
   "outputs": [
    {
     "name": "stderr",
     "output_type": "stream",
     "text": [
      "<ipython-input-54-ee3cd467e956>:1: SettingWithCopyWarning:\n",
      "\n",
      "\n",
      "A value is trying to be set on a copy of a slice from a DataFrame.\n",
      "Try using .loc[row_indexer,col_indexer] = value instead\n",
      "\n",
      "See the caveats in the documentation: https://pandas.pydata.org/pandas-docs/stable/user_guide/indexing.html#returning-a-view-versus-a-copy\n",
      "\n"
     ]
    }
   ],
   "source": [
    "df_addr['house_number'], df_addr['coords'] = zip(*df_addr.address)"
   ]
  },
  {
   "cell_type": "code",
   "execution_count": 55,
   "id": "63a2e796",
   "metadata": {},
   "outputs": [
    {
     "data": {
      "text/html": [
       "<div>\n",
       "<style scoped>\n",
       "    .dataframe tbody tr th:only-of-type {\n",
       "        vertical-align: middle;\n",
       "    }\n",
       "\n",
       "    .dataframe tbody tr th {\n",
       "        vertical-align: top;\n",
       "    }\n",
       "\n",
       "    .dataframe thead th {\n",
       "        text-align: right;\n",
       "    }\n",
       "</style>\n",
       "<table border=\"1\" class=\"dataframe\">\n",
       "  <thead>\n",
       "    <tr style=\"text-align: right;\">\n",
       "      <th></th>\n",
       "      <th>id</th>\n",
       "      <th>date</th>\n",
       "      <th>bedrooms</th>\n",
       "      <th>bathrooms</th>\n",
       "      <th>sqft_living</th>\n",
       "      <th>sqft_lot</th>\n",
       "      <th>floors</th>\n",
       "      <th>waterfront</th>\n",
       "      <th>view</th>\n",
       "      <th>condition</th>\n",
       "      <th>...</th>\n",
       "      <th>lat</th>\n",
       "      <th>long</th>\n",
       "      <th>sqft_living15</th>\n",
       "      <th>sqft_lot15</th>\n",
       "      <th>price</th>\n",
       "      <th>renovation_cat</th>\n",
       "      <th>basement_size</th>\n",
       "      <th>coords</th>\n",
       "      <th>address</th>\n",
       "      <th>house_number</th>\n",
       "    </tr>\n",
       "  </thead>\n",
       "  <tbody>\n",
       "    <tr>\n",
       "      <th>0</th>\n",
       "      <td>7129300520</td>\n",
       "      <td>2014-10-13</td>\n",
       "      <td>3</td>\n",
       "      <td>1.00</td>\n",
       "      <td>1180</td>\n",
       "      <td>5650</td>\n",
       "      <td>1.0</td>\n",
       "      <td>0</td>\n",
       "      <td>0</td>\n",
       "      <td>3</td>\n",
       "      <td>...</td>\n",
       "      <td>47.5112</td>\n",
       "      <td>-122.257</td>\n",
       "      <td>1340</td>\n",
       "      <td>5650</td>\n",
       "      <td>221900</td>\n",
       "      <td>not relevant</td>\n",
       "      <td>none</td>\n",
       "      <td>(47.5112302, -122.25676111324441)</td>\n",
       "      <td>(10012, 61st Avenue South, Rainier Beach, Seat...</td>\n",
       "      <td>10012, 61st Avenue South, Rainier Beach, Seatt...</td>\n",
       "    </tr>\n",
       "    <tr>\n",
       "      <th>1</th>\n",
       "      <td>6414100192</td>\n",
       "      <td>2014-12-09</td>\n",
       "      <td>3</td>\n",
       "      <td>2.25</td>\n",
       "      <td>2570</td>\n",
       "      <td>7242</td>\n",
       "      <td>2.0</td>\n",
       "      <td>0</td>\n",
       "      <td>0</td>\n",
       "      <td>3</td>\n",
       "      <td>...</td>\n",
       "      <td>47.7210</td>\n",
       "      <td>-122.319</td>\n",
       "      <td>1690</td>\n",
       "      <td>7639</td>\n",
       "      <td>538000</td>\n",
       "      <td>distant</td>\n",
       "      <td>medium</td>\n",
       "      <td>(47.72106685, -122.31909342613385)</td>\n",
       "      <td>(837, Northeast 127th Street, Northgate, Seatt...</td>\n",
       "      <td>837, Northeast 127th Street, Northgate, Seattl...</td>\n",
       "    </tr>\n",
       "    <tr>\n",
       "      <th>2</th>\n",
       "      <td>5631500400</td>\n",
       "      <td>2015-02-25</td>\n",
       "      <td>2</td>\n",
       "      <td>1.00</td>\n",
       "      <td>770</td>\n",
       "      <td>10000</td>\n",
       "      <td>1.0</td>\n",
       "      <td>0</td>\n",
       "      <td>0</td>\n",
       "      <td>3</td>\n",
       "      <td>...</td>\n",
       "      <td>47.7379</td>\n",
       "      <td>-122.233</td>\n",
       "      <td>2720</td>\n",
       "      <td>8062</td>\n",
       "      <td>180000</td>\n",
       "      <td>not relevant</td>\n",
       "      <td>none</td>\n",
       "      <td>(47.7379266, -122.233196)</td>\n",
       "      <td>(15109, 81st Avenue Northeast, Moorlands, Kenm...</td>\n",
       "      <td>15109, 81st Avenue Northeast, Moorlands, Kenmo...</td>\n",
       "    </tr>\n",
       "    <tr>\n",
       "      <th>3</th>\n",
       "      <td>2487200875</td>\n",
       "      <td>2014-12-09</td>\n",
       "      <td>4</td>\n",
       "      <td>3.00</td>\n",
       "      <td>1960</td>\n",
       "      <td>5000</td>\n",
       "      <td>1.0</td>\n",
       "      <td>0</td>\n",
       "      <td>0</td>\n",
       "      <td>5</td>\n",
       "      <td>...</td>\n",
       "      <td>47.5208</td>\n",
       "      <td>-122.393</td>\n",
       "      <td>1360</td>\n",
       "      <td>5000</td>\n",
       "      <td>604000</td>\n",
       "      <td>not relevant</td>\n",
       "      <td>large</td>\n",
       "      <td>(47.5208273, -122.39317386448599)</td>\n",
       "      <td>(9236, Fauntleroy Way Southwest, Fauntleroy, S...</td>\n",
       "      <td>9236, Fauntleroy Way Southwest, Fauntleroy, Se...</td>\n",
       "    </tr>\n",
       "    <tr>\n",
       "      <th>4</th>\n",
       "      <td>1954400510</td>\n",
       "      <td>2015-02-18</td>\n",
       "      <td>3</td>\n",
       "      <td>2.00</td>\n",
       "      <td>1680</td>\n",
       "      <td>8080</td>\n",
       "      <td>1.0</td>\n",
       "      <td>0</td>\n",
       "      <td>0</td>\n",
       "      <td>3</td>\n",
       "      <td>...</td>\n",
       "      <td>47.6168</td>\n",
       "      <td>-122.045</td>\n",
       "      <td>1800</td>\n",
       "      <td>7503</td>\n",
       "      <td>510000</td>\n",
       "      <td>not relevant</td>\n",
       "      <td>none</td>\n",
       "      <td>(47.61698732325433, -122.04485525389615)</td>\n",
       "      <td>(923, 221st Avenue Northeast, Sammamish, King ...</td>\n",
       "      <td>923, 221st Avenue Northeast, Sammamish, King C...</td>\n",
       "    </tr>\n",
       "    <tr>\n",
       "      <th>5</th>\n",
       "      <td>7237550310</td>\n",
       "      <td>2014-05-12</td>\n",
       "      <td>4</td>\n",
       "      <td>4.50</td>\n",
       "      <td>5420</td>\n",
       "      <td>101930</td>\n",
       "      <td>1.0</td>\n",
       "      <td>0</td>\n",
       "      <td>0</td>\n",
       "      <td>3</td>\n",
       "      <td>...</td>\n",
       "      <td>47.6561</td>\n",
       "      <td>-122.005</td>\n",
       "      <td>4760</td>\n",
       "      <td>101930</td>\n",
       "      <td>1230000</td>\n",
       "      <td>not relevant</td>\n",
       "      <td>large</td>\n",
       "      <td>(47.65612925, -122.00532886715584)</td>\n",
       "      <td>(25005, Northeast Patterson Way, Union Hill-No...</td>\n",
       "      <td>25005, Northeast Patterson Way, Union Hill-Nov...</td>\n",
       "    </tr>\n",
       "    <tr>\n",
       "      <th>6</th>\n",
       "      <td>1321400060</td>\n",
       "      <td>2014-06-27</td>\n",
       "      <td>3</td>\n",
       "      <td>2.25</td>\n",
       "      <td>1715</td>\n",
       "      <td>6819</td>\n",
       "      <td>2.0</td>\n",
       "      <td>0</td>\n",
       "      <td>0</td>\n",
       "      <td>3</td>\n",
       "      <td>...</td>\n",
       "      <td>47.3097</td>\n",
       "      <td>-122.327</td>\n",
       "      <td>2238</td>\n",
       "      <td>6819</td>\n",
       "      <td>257500</td>\n",
       "      <td>not relevant</td>\n",
       "      <td>none</td>\n",
       "      <td>(47.309697549999996, -122.32710884347944)</td>\n",
       "      <td>(533, South 330th Place, Federal Way, King Cou...</td>\n",
       "      <td>533, South 330th Place, Federal Way, King Coun...</td>\n",
       "    </tr>\n",
       "    <tr>\n",
       "      <th>7</th>\n",
       "      <td>2008000270</td>\n",
       "      <td>2015-01-15</td>\n",
       "      <td>3</td>\n",
       "      <td>1.50</td>\n",
       "      <td>1060</td>\n",
       "      <td>9711</td>\n",
       "      <td>1.0</td>\n",
       "      <td>0</td>\n",
       "      <td>0</td>\n",
       "      <td>3</td>\n",
       "      <td>...</td>\n",
       "      <td>47.4095</td>\n",
       "      <td>-122.315</td>\n",
       "      <td>1650</td>\n",
       "      <td>9711</td>\n",
       "      <td>291850</td>\n",
       "      <td>not relevant</td>\n",
       "      <td>none</td>\n",
       "      <td>(47.409549549999994, -122.31512848774693)</td>\n",
       "      <td>(21421, 14th Avenue South, Des Moines Creek, D...</td>\n",
       "      <td>21421, 14th Avenue South, Des Moines Creek, De...</td>\n",
       "    </tr>\n",
       "    <tr>\n",
       "      <th>8</th>\n",
       "      <td>2414600126</td>\n",
       "      <td>2015-04-15</td>\n",
       "      <td>3</td>\n",
       "      <td>1.00</td>\n",
       "      <td>1780</td>\n",
       "      <td>7470</td>\n",
       "      <td>1.0</td>\n",
       "      <td>0</td>\n",
       "      <td>0</td>\n",
       "      <td>3</td>\n",
       "      <td>...</td>\n",
       "      <td>47.5123</td>\n",
       "      <td>-122.337</td>\n",
       "      <td>1780</td>\n",
       "      <td>8113</td>\n",
       "      <td>229500</td>\n",
       "      <td>not relevant</td>\n",
       "      <td>large</td>\n",
       "      <td>(47.5122979, -122.3371822494673)</td>\n",
       "      <td>(216, Southwest 102nd Street, White Center, Se...</td>\n",
       "      <td>216, Southwest 102nd Street, White Center, Sea...</td>\n",
       "    </tr>\n",
       "    <tr>\n",
       "      <th>9</th>\n",
       "      <td>3793500160</td>\n",
       "      <td>2015-03-12</td>\n",
       "      <td>3</td>\n",
       "      <td>2.50</td>\n",
       "      <td>1890</td>\n",
       "      <td>6560</td>\n",
       "      <td>2.0</td>\n",
       "      <td>0</td>\n",
       "      <td>0</td>\n",
       "      <td>3</td>\n",
       "      <td>...</td>\n",
       "      <td>47.3684</td>\n",
       "      <td>-122.031</td>\n",
       "      <td>2390</td>\n",
       "      <td>7570</td>\n",
       "      <td>323000</td>\n",
       "      <td>not relevant</td>\n",
       "      <td>none</td>\n",
       "      <td>(47.3684071, -122.0308673)</td>\n",
       "      <td>(26007, 232nd Place Southeast, Katesridge, Dan...</td>\n",
       "      <td>26007, 232nd Place Southeast, Katesridge, Danv...</td>\n",
       "    </tr>\n",
       "  </tbody>\n",
       "</table>\n",
       "<p>10 rows × 26 columns</p>\n",
       "</div>"
      ],
      "text/plain": [
       "           id       date  bedrooms  bathrooms  sqft_living  sqft_lot  floors  \\\n",
       "0  7129300520 2014-10-13         3       1.00         1180      5650     1.0   \n",
       "1  6414100192 2014-12-09         3       2.25         2570      7242     2.0   \n",
       "2  5631500400 2015-02-25         2       1.00          770     10000     1.0   \n",
       "3  2487200875 2014-12-09         4       3.00         1960      5000     1.0   \n",
       "4  1954400510 2015-02-18         3       2.00         1680      8080     1.0   \n",
       "5  7237550310 2014-05-12         4       4.50         5420    101930     1.0   \n",
       "6  1321400060 2014-06-27         3       2.25         1715      6819     2.0   \n",
       "7  2008000270 2015-01-15         3       1.50         1060      9711     1.0   \n",
       "8  2414600126 2015-04-15         3       1.00         1780      7470     1.0   \n",
       "9  3793500160 2015-03-12         3       2.50         1890      6560     2.0   \n",
       "\n",
       "   waterfront  view  condition  ...      lat     long  sqft_living15  \\\n",
       "0           0     0          3  ...  47.5112 -122.257           1340   \n",
       "1           0     0          3  ...  47.7210 -122.319           1690   \n",
       "2           0     0          3  ...  47.7379 -122.233           2720   \n",
       "3           0     0          5  ...  47.5208 -122.393           1360   \n",
       "4           0     0          3  ...  47.6168 -122.045           1800   \n",
       "5           0     0          3  ...  47.6561 -122.005           4760   \n",
       "6           0     0          3  ...  47.3097 -122.327           2238   \n",
       "7           0     0          3  ...  47.4095 -122.315           1650   \n",
       "8           0     0          3  ...  47.5123 -122.337           1780   \n",
       "9           0     0          3  ...  47.3684 -122.031           2390   \n",
       "\n",
       "   sqft_lot15    price  renovation_cat  basement_size  \\\n",
       "0        5650   221900    not relevant           none   \n",
       "1        7639   538000         distant         medium   \n",
       "2        8062   180000    not relevant           none   \n",
       "3        5000   604000    not relevant          large   \n",
       "4        7503   510000    not relevant           none   \n",
       "5      101930  1230000    not relevant          large   \n",
       "6        6819   257500    not relevant           none   \n",
       "7        9711   291850    not relevant           none   \n",
       "8        8113   229500    not relevant          large   \n",
       "9        7570   323000    not relevant           none   \n",
       "\n",
       "                                      coords  \\\n",
       "0          (47.5112302, -122.25676111324441)   \n",
       "1         (47.72106685, -122.31909342613385)   \n",
       "2                  (47.7379266, -122.233196)   \n",
       "3          (47.5208273, -122.39317386448599)   \n",
       "4   (47.61698732325433, -122.04485525389615)   \n",
       "5         (47.65612925, -122.00532886715584)   \n",
       "6  (47.309697549999996, -122.32710884347944)   \n",
       "7  (47.409549549999994, -122.31512848774693)   \n",
       "8           (47.5122979, -122.3371822494673)   \n",
       "9                 (47.3684071, -122.0308673)   \n",
       "\n",
       "                                             address  \\\n",
       "0  (10012, 61st Avenue South, Rainier Beach, Seat...   \n",
       "1  (837, Northeast 127th Street, Northgate, Seatt...   \n",
       "2  (15109, 81st Avenue Northeast, Moorlands, Kenm...   \n",
       "3  (9236, Fauntleroy Way Southwest, Fauntleroy, S...   \n",
       "4  (923, 221st Avenue Northeast, Sammamish, King ...   \n",
       "5  (25005, Northeast Patterson Way, Union Hill-No...   \n",
       "6  (533, South 330th Place, Federal Way, King Cou...   \n",
       "7  (21421, 14th Avenue South, Des Moines Creek, D...   \n",
       "8  (216, Southwest 102nd Street, White Center, Se...   \n",
       "9  (26007, 232nd Place Southeast, Katesridge, Dan...   \n",
       "\n",
       "                                        house_number  \n",
       "0  10012, 61st Avenue South, Rainier Beach, Seatt...  \n",
       "1  837, Northeast 127th Street, Northgate, Seattl...  \n",
       "2  15109, 81st Avenue Northeast, Moorlands, Kenmo...  \n",
       "3  9236, Fauntleroy Way Southwest, Fauntleroy, Se...  \n",
       "4  923, 221st Avenue Northeast, Sammamish, King C...  \n",
       "5  25005, Northeast Patterson Way, Union Hill-Nov...  \n",
       "6  533, South 330th Place, Federal Way, King Coun...  \n",
       "7  21421, 14th Avenue South, Des Moines Creek, De...  \n",
       "8  216, Southwest 102nd Street, White Center, Sea...  \n",
       "9  26007, 232nd Place Southeast, Katesridge, Danv...  \n",
       "\n",
       "[10 rows x 26 columns]"
      ]
     },
     "execution_count": 55,
     "metadata": {},
     "output_type": "execute_result"
    }
   ],
   "source": [
    "df_addr"
   ]
  },
  {
   "cell_type": "code",
   "execution_count": 56,
   "id": "3a729240",
   "metadata": {
    "scrolled": true
   },
   "outputs": [
    {
     "data": {
      "text/html": [
       "<div>\n",
       "<style scoped>\n",
       "    .dataframe tbody tr th:only-of-type {\n",
       "        vertical-align: middle;\n",
       "    }\n",
       "\n",
       "    .dataframe tbody tr th {\n",
       "        vertical-align: top;\n",
       "    }\n",
       "\n",
       "    .dataframe thead th {\n",
       "        text-align: right;\n",
       "    }\n",
       "</style>\n",
       "<table border=\"1\" class=\"dataframe\">\n",
       "  <thead>\n",
       "    <tr style=\"text-align: right;\">\n",
       "      <th></th>\n",
       "      <th>id</th>\n",
       "      <th>date</th>\n",
       "      <th>bedrooms</th>\n",
       "      <th>bathrooms</th>\n",
       "      <th>sqft_living</th>\n",
       "      <th>sqft_lot</th>\n",
       "      <th>floors</th>\n",
       "      <th>waterfront</th>\n",
       "      <th>view</th>\n",
       "      <th>condition</th>\n",
       "      <th>...</th>\n",
       "      <th>house_number</th>\n",
       "      <th>0</th>\n",
       "      <th>1</th>\n",
       "      <th>2</th>\n",
       "      <th>3</th>\n",
       "      <th>4</th>\n",
       "      <th>5</th>\n",
       "      <th>6</th>\n",
       "      <th>7</th>\n",
       "      <th>8</th>\n",
       "    </tr>\n",
       "  </thead>\n",
       "  <tbody>\n",
       "    <tr>\n",
       "      <th>0</th>\n",
       "      <td>7129300520</td>\n",
       "      <td>2014-10-13</td>\n",
       "      <td>3</td>\n",
       "      <td>1.00</td>\n",
       "      <td>1180</td>\n",
       "      <td>5650</td>\n",
       "      <td>1.0</td>\n",
       "      <td>0</td>\n",
       "      <td>0</td>\n",
       "      <td>3</td>\n",
       "      <td>...</td>\n",
       "      <td>10012, 61st Avenue South, Rainier Beach, Seatt...</td>\n",
       "      <td>10012</td>\n",
       "      <td>61st Avenue South</td>\n",
       "      <td>Rainier Beach</td>\n",
       "      <td>Seattle</td>\n",
       "      <td>King County</td>\n",
       "      <td>Washington</td>\n",
       "      <td>98178</td>\n",
       "      <td>United States</td>\n",
       "      <td>None</td>\n",
       "    </tr>\n",
       "    <tr>\n",
       "      <th>1</th>\n",
       "      <td>6414100192</td>\n",
       "      <td>2014-12-09</td>\n",
       "      <td>3</td>\n",
       "      <td>2.25</td>\n",
       "      <td>2570</td>\n",
       "      <td>7242</td>\n",
       "      <td>2.0</td>\n",
       "      <td>0</td>\n",
       "      <td>0</td>\n",
       "      <td>3</td>\n",
       "      <td>...</td>\n",
       "      <td>837, Northeast 127th Street, Northgate, Seattl...</td>\n",
       "      <td>837</td>\n",
       "      <td>Northeast 127th Street</td>\n",
       "      <td>Northgate</td>\n",
       "      <td>Seattle</td>\n",
       "      <td>King County</td>\n",
       "      <td>Washington</td>\n",
       "      <td>98125</td>\n",
       "      <td>United States</td>\n",
       "      <td>None</td>\n",
       "    </tr>\n",
       "    <tr>\n",
       "      <th>2</th>\n",
       "      <td>5631500400</td>\n",
       "      <td>2015-02-25</td>\n",
       "      <td>2</td>\n",
       "      <td>1.00</td>\n",
       "      <td>770</td>\n",
       "      <td>10000</td>\n",
       "      <td>1.0</td>\n",
       "      <td>0</td>\n",
       "      <td>0</td>\n",
       "      <td>3</td>\n",
       "      <td>...</td>\n",
       "      <td>15109, 81st Avenue Northeast, Moorlands, Kenmo...</td>\n",
       "      <td>15109</td>\n",
       "      <td>81st Avenue Northeast</td>\n",
       "      <td>Moorlands</td>\n",
       "      <td>Kenmore</td>\n",
       "      <td>King County</td>\n",
       "      <td>Washington</td>\n",
       "      <td>98028</td>\n",
       "      <td>United States</td>\n",
       "      <td>None</td>\n",
       "    </tr>\n",
       "    <tr>\n",
       "      <th>3</th>\n",
       "      <td>2487200875</td>\n",
       "      <td>2014-12-09</td>\n",
       "      <td>4</td>\n",
       "      <td>3.00</td>\n",
       "      <td>1960</td>\n",
       "      <td>5000</td>\n",
       "      <td>1.0</td>\n",
       "      <td>0</td>\n",
       "      <td>0</td>\n",
       "      <td>5</td>\n",
       "      <td>...</td>\n",
       "      <td>9236, Fauntleroy Way Southwest, Fauntleroy, Se...</td>\n",
       "      <td>9236</td>\n",
       "      <td>Fauntleroy Way Southwest</td>\n",
       "      <td>Fauntleroy</td>\n",
       "      <td>Seattle</td>\n",
       "      <td>King County</td>\n",
       "      <td>Washington</td>\n",
       "      <td>98136</td>\n",
       "      <td>United States</td>\n",
       "      <td>None</td>\n",
       "    </tr>\n",
       "    <tr>\n",
       "      <th>4</th>\n",
       "      <td>1954400510</td>\n",
       "      <td>2015-02-18</td>\n",
       "      <td>3</td>\n",
       "      <td>2.00</td>\n",
       "      <td>1680</td>\n",
       "      <td>8080</td>\n",
       "      <td>1.0</td>\n",
       "      <td>0</td>\n",
       "      <td>0</td>\n",
       "      <td>3</td>\n",
       "      <td>...</td>\n",
       "      <td>923, 221st Avenue Northeast, Sammamish, King C...</td>\n",
       "      <td>923</td>\n",
       "      <td>221st Avenue Northeast</td>\n",
       "      <td>Sammamish</td>\n",
       "      <td>King County</td>\n",
       "      <td>Washington</td>\n",
       "      <td>98074</td>\n",
       "      <td>United States</td>\n",
       "      <td>None</td>\n",
       "      <td>None</td>\n",
       "    </tr>\n",
       "    <tr>\n",
       "      <th>5</th>\n",
       "      <td>7237550310</td>\n",
       "      <td>2014-05-12</td>\n",
       "      <td>4</td>\n",
       "      <td>4.50</td>\n",
       "      <td>5420</td>\n",
       "      <td>101930</td>\n",
       "      <td>1.0</td>\n",
       "      <td>0</td>\n",
       "      <td>0</td>\n",
       "      <td>3</td>\n",
       "      <td>...</td>\n",
       "      <td>25005, Northeast Patterson Way, Union Hill-Nov...</td>\n",
       "      <td>25005</td>\n",
       "      <td>Northeast Patterson Way</td>\n",
       "      <td>Union Hill-Novelty Hill</td>\n",
       "      <td>King County</td>\n",
       "      <td>Washington</td>\n",
       "      <td>98053</td>\n",
       "      <td>United States</td>\n",
       "      <td>None</td>\n",
       "      <td>None</td>\n",
       "    </tr>\n",
       "    <tr>\n",
       "      <th>6</th>\n",
       "      <td>1321400060</td>\n",
       "      <td>2014-06-27</td>\n",
       "      <td>3</td>\n",
       "      <td>2.25</td>\n",
       "      <td>1715</td>\n",
       "      <td>6819</td>\n",
       "      <td>2.0</td>\n",
       "      <td>0</td>\n",
       "      <td>0</td>\n",
       "      <td>3</td>\n",
       "      <td>...</td>\n",
       "      <td>533, South 330th Place, Federal Way, King Coun...</td>\n",
       "      <td>533</td>\n",
       "      <td>South 330th Place</td>\n",
       "      <td>Federal Way</td>\n",
       "      <td>King County</td>\n",
       "      <td>Washington</td>\n",
       "      <td>98003</td>\n",
       "      <td>United States</td>\n",
       "      <td>None</td>\n",
       "      <td>None</td>\n",
       "    </tr>\n",
       "    <tr>\n",
       "      <th>7</th>\n",
       "      <td>2008000270</td>\n",
       "      <td>2015-01-15</td>\n",
       "      <td>3</td>\n",
       "      <td>1.50</td>\n",
       "      <td>1060</td>\n",
       "      <td>9711</td>\n",
       "      <td>1.0</td>\n",
       "      <td>0</td>\n",
       "      <td>0</td>\n",
       "      <td>3</td>\n",
       "      <td>...</td>\n",
       "      <td>21421, 14th Avenue South, Des Moines Creek, De...</td>\n",
       "      <td>21421</td>\n",
       "      <td>14th Avenue South</td>\n",
       "      <td>Des Moines Creek</td>\n",
       "      <td>Des Moines</td>\n",
       "      <td>King County</td>\n",
       "      <td>Washington</td>\n",
       "      <td>98198</td>\n",
       "      <td>United States</td>\n",
       "      <td>None</td>\n",
       "    </tr>\n",
       "    <tr>\n",
       "      <th>8</th>\n",
       "      <td>2414600126</td>\n",
       "      <td>2015-04-15</td>\n",
       "      <td>3</td>\n",
       "      <td>1.00</td>\n",
       "      <td>1780</td>\n",
       "      <td>7470</td>\n",
       "      <td>1.0</td>\n",
       "      <td>0</td>\n",
       "      <td>0</td>\n",
       "      <td>3</td>\n",
       "      <td>...</td>\n",
       "      <td>216, Southwest 102nd Street, White Center, Sea...</td>\n",
       "      <td>216</td>\n",
       "      <td>Southwest 102nd Street</td>\n",
       "      <td>White Center</td>\n",
       "      <td>Seattle</td>\n",
       "      <td>King County</td>\n",
       "      <td>Washington</td>\n",
       "      <td>98146</td>\n",
       "      <td>United States</td>\n",
       "      <td>None</td>\n",
       "    </tr>\n",
       "    <tr>\n",
       "      <th>9</th>\n",
       "      <td>3793500160</td>\n",
       "      <td>2015-03-12</td>\n",
       "      <td>3</td>\n",
       "      <td>2.50</td>\n",
       "      <td>1890</td>\n",
       "      <td>6560</td>\n",
       "      <td>2.0</td>\n",
       "      <td>0</td>\n",
       "      <td>0</td>\n",
       "      <td>3</td>\n",
       "      <td>...</td>\n",
       "      <td>26007, 232nd Place Southeast, Katesridge, Danv...</td>\n",
       "      <td>26007</td>\n",
       "      <td>232nd Place Southeast</td>\n",
       "      <td>Katesridge</td>\n",
       "      <td>Danville</td>\n",
       "      <td>Maple Valley</td>\n",
       "      <td>King County</td>\n",
       "      <td>Washington</td>\n",
       "      <td>98038</td>\n",
       "      <td>United States</td>\n",
       "    </tr>\n",
       "  </tbody>\n",
       "</table>\n",
       "<p>10 rows × 35 columns</p>\n",
       "</div>"
      ],
      "text/plain": [
       "           id       date  bedrooms  bathrooms  sqft_living  sqft_lot  floors  \\\n",
       "0  7129300520 2014-10-13         3       1.00         1180      5650     1.0   \n",
       "1  6414100192 2014-12-09         3       2.25         2570      7242     2.0   \n",
       "2  5631500400 2015-02-25         2       1.00          770     10000     1.0   \n",
       "3  2487200875 2014-12-09         4       3.00         1960      5000     1.0   \n",
       "4  1954400510 2015-02-18         3       2.00         1680      8080     1.0   \n",
       "5  7237550310 2014-05-12         4       4.50         5420    101930     1.0   \n",
       "6  1321400060 2014-06-27         3       2.25         1715      6819     2.0   \n",
       "7  2008000270 2015-01-15         3       1.50         1060      9711     1.0   \n",
       "8  2414600126 2015-04-15         3       1.00         1780      7470     1.0   \n",
       "9  3793500160 2015-03-12         3       2.50         1890      6560     2.0   \n",
       "\n",
       "   waterfront  view  condition  ...  \\\n",
       "0           0     0          3  ...   \n",
       "1           0     0          3  ...   \n",
       "2           0     0          3  ...   \n",
       "3           0     0          5  ...   \n",
       "4           0     0          3  ...   \n",
       "5           0     0          3  ...   \n",
       "6           0     0          3  ...   \n",
       "7           0     0          3  ...   \n",
       "8           0     0          3  ...   \n",
       "9           0     0          3  ...   \n",
       "\n",
       "                                        house_number      0  \\\n",
       "0  10012, 61st Avenue South, Rainier Beach, Seatt...  10012   \n",
       "1  837, Northeast 127th Street, Northgate, Seattl...    837   \n",
       "2  15109, 81st Avenue Northeast, Moorlands, Kenmo...  15109   \n",
       "3  9236, Fauntleroy Way Southwest, Fauntleroy, Se...   9236   \n",
       "4  923, 221st Avenue Northeast, Sammamish, King C...    923   \n",
       "5  25005, Northeast Patterson Way, Union Hill-Nov...  25005   \n",
       "6  533, South 330th Place, Federal Way, King Coun...    533   \n",
       "7  21421, 14th Avenue South, Des Moines Creek, De...  21421   \n",
       "8  216, Southwest 102nd Street, White Center, Sea...    216   \n",
       "9  26007, 232nd Place Southeast, Katesridge, Danv...  26007   \n",
       "\n",
       "                           1                         2             3  \\\n",
       "0          61st Avenue South             Rainier Beach       Seattle   \n",
       "1     Northeast 127th Street                 Northgate       Seattle   \n",
       "2      81st Avenue Northeast                 Moorlands       Kenmore   \n",
       "3   Fauntleroy Way Southwest                Fauntleroy       Seattle   \n",
       "4     221st Avenue Northeast                 Sammamish   King County   \n",
       "5    Northeast Patterson Way   Union Hill-Novelty Hill   King County   \n",
       "6          South 330th Place               Federal Way   King County   \n",
       "7          14th Avenue South          Des Moines Creek    Des Moines   \n",
       "8     Southwest 102nd Street              White Center       Seattle   \n",
       "9      232nd Place Southeast                Katesridge      Danville   \n",
       "\n",
       "               4             5               6               7               8  \n",
       "0    King County    Washington           98178   United States            None  \n",
       "1    King County    Washington           98125   United States            None  \n",
       "2    King County    Washington           98028   United States            None  \n",
       "3    King County    Washington           98136   United States            None  \n",
       "4     Washington         98074   United States            None            None  \n",
       "5     Washington         98053   United States            None            None  \n",
       "6     Washington         98003   United States            None            None  \n",
       "7    King County    Washington           98198   United States            None  \n",
       "8    King County    Washington           98146   United States            None  \n",
       "9   Maple Valley   King County      Washington           98038   United States  \n",
       "\n",
       "[10 rows x 35 columns]"
      ]
     },
     "execution_count": 56,
     "metadata": {},
     "output_type": "execute_result"
    }
   ],
   "source": [
    "df_ad = df_addr['house_number'].str.split(',', expand=True)\n",
    "df_addresses = pd.concat((df_addr, df_ad), axis=1)\n",
    "df_addresses"
   ]
  },
  {
   "cell_type": "code",
   "execution_count": 57,
   "id": "847c478e",
   "metadata": {},
   "outputs": [
    {
     "data": {
      "text/html": [
       "<div>\n",
       "<style scoped>\n",
       "    .dataframe tbody tr th:only-of-type {\n",
       "        vertical-align: middle;\n",
       "    }\n",
       "\n",
       "    .dataframe tbody tr th {\n",
       "        vertical-align: top;\n",
       "    }\n",
       "\n",
       "    .dataframe thead th {\n",
       "        text-align: right;\n",
       "    }\n",
       "</style>\n",
       "<table border=\"1\" class=\"dataframe\">\n",
       "  <thead>\n",
       "    <tr style=\"text-align: right;\">\n",
       "      <th></th>\n",
       "      <th>id</th>\n",
       "      <th>date</th>\n",
       "      <th>bedrooms</th>\n",
       "      <th>bathrooms</th>\n",
       "      <th>sqft_living</th>\n",
       "      <th>sqft_lot</th>\n",
       "      <th>floors</th>\n",
       "      <th>waterfront</th>\n",
       "      <th>view</th>\n",
       "      <th>condition</th>\n",
       "      <th>...</th>\n",
       "      <th>lat</th>\n",
       "      <th>long</th>\n",
       "      <th>sqft_living15</th>\n",
       "      <th>sqft_lot15</th>\n",
       "      <th>price</th>\n",
       "      <th>renovation_cat</th>\n",
       "      <th>basement_size</th>\n",
       "      <th>house_number</th>\n",
       "      <th>road</th>\n",
       "      <th>town</th>\n",
       "    </tr>\n",
       "  </thead>\n",
       "  <tbody>\n",
       "    <tr>\n",
       "      <th>0</th>\n",
       "      <td>7129300520</td>\n",
       "      <td>2014-10-13</td>\n",
       "      <td>3</td>\n",
       "      <td>1.00</td>\n",
       "      <td>1180</td>\n",
       "      <td>5650</td>\n",
       "      <td>1.0</td>\n",
       "      <td>0</td>\n",
       "      <td>0</td>\n",
       "      <td>3</td>\n",
       "      <td>...</td>\n",
       "      <td>47.5112</td>\n",
       "      <td>-122.257</td>\n",
       "      <td>1340</td>\n",
       "      <td>5650</td>\n",
       "      <td>221900</td>\n",
       "      <td>not relevant</td>\n",
       "      <td>none</td>\n",
       "      <td>10012</td>\n",
       "      <td>61st Avenue South</td>\n",
       "      <td>Rainier Beach</td>\n",
       "    </tr>\n",
       "    <tr>\n",
       "      <th>1</th>\n",
       "      <td>6414100192</td>\n",
       "      <td>2014-12-09</td>\n",
       "      <td>3</td>\n",
       "      <td>2.25</td>\n",
       "      <td>2570</td>\n",
       "      <td>7242</td>\n",
       "      <td>2.0</td>\n",
       "      <td>0</td>\n",
       "      <td>0</td>\n",
       "      <td>3</td>\n",
       "      <td>...</td>\n",
       "      <td>47.7210</td>\n",
       "      <td>-122.319</td>\n",
       "      <td>1690</td>\n",
       "      <td>7639</td>\n",
       "      <td>538000</td>\n",
       "      <td>distant</td>\n",
       "      <td>medium</td>\n",
       "      <td>837</td>\n",
       "      <td>Northeast 127th Street</td>\n",
       "      <td>Northgate</td>\n",
       "    </tr>\n",
       "    <tr>\n",
       "      <th>2</th>\n",
       "      <td>5631500400</td>\n",
       "      <td>2015-02-25</td>\n",
       "      <td>2</td>\n",
       "      <td>1.00</td>\n",
       "      <td>770</td>\n",
       "      <td>10000</td>\n",
       "      <td>1.0</td>\n",
       "      <td>0</td>\n",
       "      <td>0</td>\n",
       "      <td>3</td>\n",
       "      <td>...</td>\n",
       "      <td>47.7379</td>\n",
       "      <td>-122.233</td>\n",
       "      <td>2720</td>\n",
       "      <td>8062</td>\n",
       "      <td>180000</td>\n",
       "      <td>not relevant</td>\n",
       "      <td>none</td>\n",
       "      <td>15109</td>\n",
       "      <td>81st Avenue Northeast</td>\n",
       "      <td>Moorlands</td>\n",
       "    </tr>\n",
       "    <tr>\n",
       "      <th>3</th>\n",
       "      <td>2487200875</td>\n",
       "      <td>2014-12-09</td>\n",
       "      <td>4</td>\n",
       "      <td>3.00</td>\n",
       "      <td>1960</td>\n",
       "      <td>5000</td>\n",
       "      <td>1.0</td>\n",
       "      <td>0</td>\n",
       "      <td>0</td>\n",
       "      <td>5</td>\n",
       "      <td>...</td>\n",
       "      <td>47.5208</td>\n",
       "      <td>-122.393</td>\n",
       "      <td>1360</td>\n",
       "      <td>5000</td>\n",
       "      <td>604000</td>\n",
       "      <td>not relevant</td>\n",
       "      <td>large</td>\n",
       "      <td>9236</td>\n",
       "      <td>Fauntleroy Way Southwest</td>\n",
       "      <td>Fauntleroy</td>\n",
       "    </tr>\n",
       "    <tr>\n",
       "      <th>4</th>\n",
       "      <td>1954400510</td>\n",
       "      <td>2015-02-18</td>\n",
       "      <td>3</td>\n",
       "      <td>2.00</td>\n",
       "      <td>1680</td>\n",
       "      <td>8080</td>\n",
       "      <td>1.0</td>\n",
       "      <td>0</td>\n",
       "      <td>0</td>\n",
       "      <td>3</td>\n",
       "      <td>...</td>\n",
       "      <td>47.6168</td>\n",
       "      <td>-122.045</td>\n",
       "      <td>1800</td>\n",
       "      <td>7503</td>\n",
       "      <td>510000</td>\n",
       "      <td>not relevant</td>\n",
       "      <td>none</td>\n",
       "      <td>923</td>\n",
       "      <td>221st Avenue Northeast</td>\n",
       "      <td>Sammamish</td>\n",
       "    </tr>\n",
       "    <tr>\n",
       "      <th>5</th>\n",
       "      <td>7237550310</td>\n",
       "      <td>2014-05-12</td>\n",
       "      <td>4</td>\n",
       "      <td>4.50</td>\n",
       "      <td>5420</td>\n",
       "      <td>101930</td>\n",
       "      <td>1.0</td>\n",
       "      <td>0</td>\n",
       "      <td>0</td>\n",
       "      <td>3</td>\n",
       "      <td>...</td>\n",
       "      <td>47.6561</td>\n",
       "      <td>-122.005</td>\n",
       "      <td>4760</td>\n",
       "      <td>101930</td>\n",
       "      <td>1230000</td>\n",
       "      <td>not relevant</td>\n",
       "      <td>large</td>\n",
       "      <td>25005</td>\n",
       "      <td>Northeast Patterson Way</td>\n",
       "      <td>Union Hill-Novelty Hill</td>\n",
       "    </tr>\n",
       "    <tr>\n",
       "      <th>6</th>\n",
       "      <td>1321400060</td>\n",
       "      <td>2014-06-27</td>\n",
       "      <td>3</td>\n",
       "      <td>2.25</td>\n",
       "      <td>1715</td>\n",
       "      <td>6819</td>\n",
       "      <td>2.0</td>\n",
       "      <td>0</td>\n",
       "      <td>0</td>\n",
       "      <td>3</td>\n",
       "      <td>...</td>\n",
       "      <td>47.3097</td>\n",
       "      <td>-122.327</td>\n",
       "      <td>2238</td>\n",
       "      <td>6819</td>\n",
       "      <td>257500</td>\n",
       "      <td>not relevant</td>\n",
       "      <td>none</td>\n",
       "      <td>533</td>\n",
       "      <td>South 330th Place</td>\n",
       "      <td>Federal Way</td>\n",
       "    </tr>\n",
       "    <tr>\n",
       "      <th>7</th>\n",
       "      <td>2008000270</td>\n",
       "      <td>2015-01-15</td>\n",
       "      <td>3</td>\n",
       "      <td>1.50</td>\n",
       "      <td>1060</td>\n",
       "      <td>9711</td>\n",
       "      <td>1.0</td>\n",
       "      <td>0</td>\n",
       "      <td>0</td>\n",
       "      <td>3</td>\n",
       "      <td>...</td>\n",
       "      <td>47.4095</td>\n",
       "      <td>-122.315</td>\n",
       "      <td>1650</td>\n",
       "      <td>9711</td>\n",
       "      <td>291850</td>\n",
       "      <td>not relevant</td>\n",
       "      <td>none</td>\n",
       "      <td>21421</td>\n",
       "      <td>14th Avenue South</td>\n",
       "      <td>Des Moines Creek</td>\n",
       "    </tr>\n",
       "    <tr>\n",
       "      <th>8</th>\n",
       "      <td>2414600126</td>\n",
       "      <td>2015-04-15</td>\n",
       "      <td>3</td>\n",
       "      <td>1.00</td>\n",
       "      <td>1780</td>\n",
       "      <td>7470</td>\n",
       "      <td>1.0</td>\n",
       "      <td>0</td>\n",
       "      <td>0</td>\n",
       "      <td>3</td>\n",
       "      <td>...</td>\n",
       "      <td>47.5123</td>\n",
       "      <td>-122.337</td>\n",
       "      <td>1780</td>\n",
       "      <td>8113</td>\n",
       "      <td>229500</td>\n",
       "      <td>not relevant</td>\n",
       "      <td>large</td>\n",
       "      <td>216</td>\n",
       "      <td>Southwest 102nd Street</td>\n",
       "      <td>White Center</td>\n",
       "    </tr>\n",
       "    <tr>\n",
       "      <th>9</th>\n",
       "      <td>3793500160</td>\n",
       "      <td>2015-03-12</td>\n",
       "      <td>3</td>\n",
       "      <td>2.50</td>\n",
       "      <td>1890</td>\n",
       "      <td>6560</td>\n",
       "      <td>2.0</td>\n",
       "      <td>0</td>\n",
       "      <td>0</td>\n",
       "      <td>3</td>\n",
       "      <td>...</td>\n",
       "      <td>47.3684</td>\n",
       "      <td>-122.031</td>\n",
       "      <td>2390</td>\n",
       "      <td>7570</td>\n",
       "      <td>323000</td>\n",
       "      <td>not relevant</td>\n",
       "      <td>none</td>\n",
       "      <td>26007</td>\n",
       "      <td>232nd Place Southeast</td>\n",
       "      <td>Katesridge</td>\n",
       "    </tr>\n",
       "  </tbody>\n",
       "</table>\n",
       "<p>10 rows × 26 columns</p>\n",
       "</div>"
      ],
      "text/plain": [
       "           id       date  bedrooms  bathrooms  sqft_living  sqft_lot  floors  \\\n",
       "0  7129300520 2014-10-13         3       1.00         1180      5650     1.0   \n",
       "1  6414100192 2014-12-09         3       2.25         2570      7242     2.0   \n",
       "2  5631500400 2015-02-25         2       1.00          770     10000     1.0   \n",
       "3  2487200875 2014-12-09         4       3.00         1960      5000     1.0   \n",
       "4  1954400510 2015-02-18         3       2.00         1680      8080     1.0   \n",
       "5  7237550310 2014-05-12         4       4.50         5420    101930     1.0   \n",
       "6  1321400060 2014-06-27         3       2.25         1715      6819     2.0   \n",
       "7  2008000270 2015-01-15         3       1.50         1060      9711     1.0   \n",
       "8  2414600126 2015-04-15         3       1.00         1780      7470     1.0   \n",
       "9  3793500160 2015-03-12         3       2.50         1890      6560     2.0   \n",
       "\n",
       "   waterfront  view  condition  ...      lat     long  sqft_living15  \\\n",
       "0           0     0          3  ...  47.5112 -122.257           1340   \n",
       "1           0     0          3  ...  47.7210 -122.319           1690   \n",
       "2           0     0          3  ...  47.7379 -122.233           2720   \n",
       "3           0     0          5  ...  47.5208 -122.393           1360   \n",
       "4           0     0          3  ...  47.6168 -122.045           1800   \n",
       "5           0     0          3  ...  47.6561 -122.005           4760   \n",
       "6           0     0          3  ...  47.3097 -122.327           2238   \n",
       "7           0     0          3  ...  47.4095 -122.315           1650   \n",
       "8           0     0          3  ...  47.5123 -122.337           1780   \n",
       "9           0     0          3  ...  47.3684 -122.031           2390   \n",
       "\n",
       "   sqft_lot15    price  renovation_cat  basement_size  house_number  \\\n",
       "0        5650   221900    not relevant           none         10012   \n",
       "1        7639   538000         distant         medium           837   \n",
       "2        8062   180000    not relevant           none         15109   \n",
       "3        5000   604000    not relevant          large          9236   \n",
       "4        7503   510000    not relevant           none           923   \n",
       "5      101930  1230000    not relevant          large         25005   \n",
       "6        6819   257500    not relevant           none           533   \n",
       "7        9711   291850    not relevant           none         21421   \n",
       "8        8113   229500    not relevant          large           216   \n",
       "9        7570   323000    not relevant           none         26007   \n",
       "\n",
       "                        road                      town  \n",
       "0          61st Avenue South             Rainier Beach  \n",
       "1     Northeast 127th Street                 Northgate  \n",
       "2      81st Avenue Northeast                 Moorlands  \n",
       "3   Fauntleroy Way Southwest                Fauntleroy  \n",
       "4     221st Avenue Northeast                 Sammamish  \n",
       "5    Northeast Patterson Way   Union Hill-Novelty Hill  \n",
       "6          South 330th Place               Federal Way  \n",
       "7          14th Avenue South          Des Moines Creek  \n",
       "8     Southwest 102nd Street              White Center  \n",
       "9      232nd Place Southeast                Katesridge  \n",
       "\n",
       "[10 rows x 26 columns]"
      ]
     },
     "execution_count": 57,
     "metadata": {},
     "output_type": "execute_result"
    }
   ],
   "source": [
    "df_rev = df_addresses.drop([3, 4, 5, 6, 7, 8, 'coords', 'address', 'house_number'], axis= 1)\n",
    "df_rev2 = df_rev.rename(columns={0: 'house_number', 1: 'road', 2: 'town'})\n",
    "df_rev2"
   ]
  },
  {
   "cell_type": "markdown",
   "id": "97d56913",
   "metadata": {},
   "source": [
    "## Split columns into numerical and categorical values"
   ]
  },
  {
   "cell_type": "code",
   "execution_count": 560,
   "id": "8c6db5ff",
   "metadata": {
    "scrolled": false
   },
   "outputs": [
    {
     "name": "stdout",
     "output_type": "stream",
     "text": [
      "<class 'pandas.core.frame.DataFrame'>\n",
      "RangeIndex: 20789 entries, 0 to 20788\n",
      "Data columns (total 24 columns):\n",
      " #   Column          Non-Null Count  Dtype         \n",
      "---  ------          --------------  -----         \n",
      " 0   id              20789 non-null  int64         \n",
      " 1   date            20789 non-null  datetime64[ns]\n",
      " 2   bedrooms        20789 non-null  int64         \n",
      " 3   bathrooms       20789 non-null  float64       \n",
      " 4   sqft_living     20789 non-null  int64         \n",
      " 5   sqft_lot        20789 non-null  int64         \n",
      " 6   floors          20789 non-null  float64       \n",
      " 7   waterfront      20789 non-null  int64         \n",
      " 8   view            20789 non-null  int64         \n",
      " 9   condition       20789 non-null  int64         \n",
      " 10  grade           20789 non-null  int64         \n",
      " 11  sqft_above      20789 non-null  int64         \n",
      " 12  sqft_basement   20789 non-null  int64         \n",
      " 13  yr_built        20789 non-null  int64         \n",
      " 14  yr_renovated    20789 non-null  int64         \n",
      " 15  zipcode         20789 non-null  int64         \n",
      " 16  lat             20789 non-null  float64       \n",
      " 17  long            20789 non-null  float64       \n",
      " 18  sqft_living15   20789 non-null  int64         \n",
      " 19  sqft_lot15      20789 non-null  int64         \n",
      " 20  price           20789 non-null  int64         \n",
      " 21  renovation_cat  20789 non-null  object        \n",
      " 22  basement_size   20789 non-null  object        \n",
      " 23  geo_cluster_k   20789 non-null  int32         \n",
      "dtypes: datetime64[ns](1), float64(4), int32(1), int64(16), object(2)\n",
      "memory usage: 3.7+ MB\n"
     ]
    }
   ],
   "source": [
    "df.info()"
   ]
  },
  {
   "cell_type": "markdown",
   "id": "f65e5cdf",
   "metadata": {},
   "source": [
    "### Drop columns which are not used for regression"
   ]
  },
  {
   "cell_type": "code",
   "execution_count": 561,
   "id": "94a9b3f3",
   "metadata": {},
   "outputs": [],
   "source": [
    "df_waterfront = df['waterfront']\n",
    "df_trimmed = df.drop(['id', 'date', 'lat', 'long', 'waterfront', 'sqft_living', 'sqft_lot', 'sqft_basement', 'yr_renovated', 'zipcode'], axis= 1)"
   ]
  },
  {
   "cell_type": "code",
   "execution_count": 562,
   "id": "37f46f0e",
   "metadata": {},
   "outputs": [
    {
     "data": {
      "text/html": [
       "<div>\n",
       "<style scoped>\n",
       "    .dataframe tbody tr th:only-of-type {\n",
       "        vertical-align: middle;\n",
       "    }\n",
       "\n",
       "    .dataframe tbody tr th {\n",
       "        vertical-align: top;\n",
       "    }\n",
       "\n",
       "    .dataframe thead th {\n",
       "        text-align: right;\n",
       "    }\n",
       "</style>\n",
       "<table border=\"1\" class=\"dataframe\">\n",
       "  <thead>\n",
       "    <tr style=\"text-align: right;\">\n",
       "      <th></th>\n",
       "      <th>bedrooms</th>\n",
       "      <th>bathrooms</th>\n",
       "      <th>floors</th>\n",
       "      <th>view</th>\n",
       "      <th>condition</th>\n",
       "      <th>grade</th>\n",
       "      <th>sqft_above</th>\n",
       "      <th>yr_built</th>\n",
       "      <th>sqft_living15</th>\n",
       "      <th>sqft_lot15</th>\n",
       "      <th>price</th>\n",
       "      <th>renovation_cat</th>\n",
       "      <th>basement_size</th>\n",
       "      <th>geo_cluster_k</th>\n",
       "    </tr>\n",
       "  </thead>\n",
       "  <tbody>\n",
       "    <tr>\n",
       "      <th>0</th>\n",
       "      <td>3</td>\n",
       "      <td>1.00</td>\n",
       "      <td>1.0</td>\n",
       "      <td>0</td>\n",
       "      <td>3</td>\n",
       "      <td>7</td>\n",
       "      <td>1180</td>\n",
       "      <td>1955</td>\n",
       "      <td>1340</td>\n",
       "      <td>5650</td>\n",
       "      <td>221900</td>\n",
       "      <td>not relevant</td>\n",
       "      <td>none</td>\n",
       "      <td>195</td>\n",
       "    </tr>\n",
       "    <tr>\n",
       "      <th>1</th>\n",
       "      <td>3</td>\n",
       "      <td>2.25</td>\n",
       "      <td>2.0</td>\n",
       "      <td>0</td>\n",
       "      <td>3</td>\n",
       "      <td>7</td>\n",
       "      <td>2170</td>\n",
       "      <td>1951</td>\n",
       "      <td>1690</td>\n",
       "      <td>7639</td>\n",
       "      <td>538000</td>\n",
       "      <td>distant</td>\n",
       "      <td>medium</td>\n",
       "      <td>71</td>\n",
       "    </tr>\n",
       "    <tr>\n",
       "      <th>2</th>\n",
       "      <td>2</td>\n",
       "      <td>1.00</td>\n",
       "      <td>1.0</td>\n",
       "      <td>0</td>\n",
       "      <td>3</td>\n",
       "      <td>6</td>\n",
       "      <td>770</td>\n",
       "      <td>1933</td>\n",
       "      <td>2720</td>\n",
       "      <td>8062</td>\n",
       "      <td>180000</td>\n",
       "      <td>not relevant</td>\n",
       "      <td>none</td>\n",
       "      <td>234</td>\n",
       "    </tr>\n",
       "    <tr>\n",
       "      <th>3</th>\n",
       "      <td>4</td>\n",
       "      <td>3.00</td>\n",
       "      <td>1.0</td>\n",
       "      <td>0</td>\n",
       "      <td>5</td>\n",
       "      <td>7</td>\n",
       "      <td>1050</td>\n",
       "      <td>1965</td>\n",
       "      <td>1360</td>\n",
       "      <td>5000</td>\n",
       "      <td>604000</td>\n",
       "      <td>not relevant</td>\n",
       "      <td>large</td>\n",
       "      <td>255</td>\n",
       "    </tr>\n",
       "    <tr>\n",
       "      <th>4</th>\n",
       "      <td>3</td>\n",
       "      <td>2.00</td>\n",
       "      <td>1.0</td>\n",
       "      <td>0</td>\n",
       "      <td>3</td>\n",
       "      <td>8</td>\n",
       "      <td>1680</td>\n",
       "      <td>1987</td>\n",
       "      <td>1800</td>\n",
       "      <td>7503</td>\n",
       "      <td>510000</td>\n",
       "      <td>not relevant</td>\n",
       "      <td>none</td>\n",
       "      <td>204</td>\n",
       "    </tr>\n",
       "  </tbody>\n",
       "</table>\n",
       "</div>"
      ],
      "text/plain": [
       "   bedrooms  bathrooms  floors  view  condition  grade  sqft_above  yr_built  \\\n",
       "0         3       1.00     1.0     0          3      7        1180      1955   \n",
       "1         3       2.25     2.0     0          3      7        2170      1951   \n",
       "2         2       1.00     1.0     0          3      6         770      1933   \n",
       "3         4       3.00     1.0     0          5      7        1050      1965   \n",
       "4         3       2.00     1.0     0          3      8        1680      1987   \n",
       "\n",
       "   sqft_living15  sqft_lot15   price renovation_cat basement_size  \\\n",
       "0           1340        5650  221900   not relevant          none   \n",
       "1           1690        7639  538000        distant        medium   \n",
       "2           2720        8062  180000   not relevant          none   \n",
       "3           1360        5000  604000   not relevant         large   \n",
       "4           1800        7503  510000   not relevant          none   \n",
       "\n",
       "   geo_cluster_k  \n",
       "0            195  \n",
       "1             71  \n",
       "2            234  \n",
       "3            255  \n",
       "4            204  "
      ]
     },
     "execution_count": 562,
     "metadata": {},
     "output_type": "execute_result"
    }
   ],
   "source": [
    "df_trimmed.head()"
   ]
  },
  {
   "cell_type": "markdown",
   "id": "0fa9e423",
   "metadata": {},
   "source": [
    "### Determine categorical data\n",
    "Based on research, ordinal data such as condition, grade and view can be treated either as numerical or as categorical data. In order to find the best model to predict housing prices, we will test both.\n",
    "\n",
    "In Model 1, categorical data will only include zipcode. \n",
    "In Model 2, categorical data will include view, condition, grade and zipcode.\n",
    "\n",
    "Note: Ordinal data are discrete integers that can be ranked or sorted. A defining characteristic is that the distance between any two numbers is not known. (Source: https://towardsdatascience.com/7-data-types-a-better-way-to-think-about-data-types-for-machine-learning-939fae99a689)\n",
    "\n",
    "Results of Test:\n",
    "Model 2 proved to be more effective, therefore it was decided to continue with Model 2."
   ]
  },
  {
   "cell_type": "markdown",
   "id": "4abc4171",
   "metadata": {},
   "source": [
    "#### Model 2"
   ]
  },
  {
   "cell_type": "code",
   "execution_count": 563,
   "id": "0de48185",
   "metadata": {},
   "outputs": [],
   "source": [
    "# Convert columns with ordinal / categorical data to object type\n",
    "df_new = df_trimmed.copy()\n",
    "columns = ['view', 'condition', 'grade', 'geo_cluster_k']\n",
    "for column in columns:\n",
    "    df_new[column] = df_new[column].astype('object')\n",
    "    \n",
    "# NO MORE COLUMNS OR ROWS WILL BE DROPPED FROM THIS POINT ON"
   ]
  },
  {
   "cell_type": "code",
   "execution_count": 564,
   "id": "52a6dd64",
   "metadata": {},
   "outputs": [
    {
     "name": "stdout",
     "output_type": "stream",
     "text": [
      "<class 'pandas.core.frame.DataFrame'>\n",
      "RangeIndex: 20789 entries, 0 to 20788\n",
      "Data columns (total 14 columns):\n",
      " #   Column          Non-Null Count  Dtype  \n",
      "---  ------          --------------  -----  \n",
      " 0   bedrooms        20789 non-null  int64  \n",
      " 1   bathrooms       20789 non-null  float64\n",
      " 2   floors          20789 non-null  float64\n",
      " 3   view            20789 non-null  object \n",
      " 4   condition       20789 non-null  object \n",
      " 5   grade           20789 non-null  object \n",
      " 6   sqft_above      20789 non-null  int64  \n",
      " 7   yr_built        20789 non-null  int64  \n",
      " 8   sqft_living15   20789 non-null  int64  \n",
      " 9   sqft_lot15      20789 non-null  int64  \n",
      " 10  price           20789 non-null  int64  \n",
      " 11  renovation_cat  20789 non-null  object \n",
      " 12  basement_size   20789 non-null  object \n",
      " 13  geo_cluster_k   20789 non-null  object \n",
      "dtypes: float64(2), int64(6), object(6)\n",
      "memory usage: 2.2+ MB\n"
     ]
    }
   ],
   "source": [
    "df_new.info()"
   ]
  },
  {
   "cell_type": "code",
   "execution_count": 565,
   "id": "d5bd5da2",
   "metadata": {
    "scrolled": false
   },
   "outputs": [
    {
     "data": {
      "text/html": [
       "<div>\n",
       "<style scoped>\n",
       "    .dataframe tbody tr th:only-of-type {\n",
       "        vertical-align: middle;\n",
       "    }\n",
       "\n",
       "    .dataframe tbody tr th {\n",
       "        vertical-align: top;\n",
       "    }\n",
       "\n",
       "    .dataframe thead th {\n",
       "        text-align: right;\n",
       "    }\n",
       "</style>\n",
       "<table border=\"1\" class=\"dataframe\">\n",
       "  <thead>\n",
       "    <tr style=\"text-align: right;\">\n",
       "      <th></th>\n",
       "      <th>view</th>\n",
       "      <th>condition</th>\n",
       "      <th>grade</th>\n",
       "      <th>renovation_cat</th>\n",
       "      <th>basement_size</th>\n",
       "      <th>geo_cluster_k</th>\n",
       "    </tr>\n",
       "  </thead>\n",
       "  <tbody>\n",
       "    <tr>\n",
       "      <th>0</th>\n",
       "      <td>0</td>\n",
       "      <td>3</td>\n",
       "      <td>7</td>\n",
       "      <td>not relevant</td>\n",
       "      <td>none</td>\n",
       "      <td>195</td>\n",
       "    </tr>\n",
       "    <tr>\n",
       "      <th>1</th>\n",
       "      <td>0</td>\n",
       "      <td>3</td>\n",
       "      <td>7</td>\n",
       "      <td>distant</td>\n",
       "      <td>medium</td>\n",
       "      <td>71</td>\n",
       "    </tr>\n",
       "    <tr>\n",
       "      <th>2</th>\n",
       "      <td>0</td>\n",
       "      <td>3</td>\n",
       "      <td>6</td>\n",
       "      <td>not relevant</td>\n",
       "      <td>none</td>\n",
       "      <td>234</td>\n",
       "    </tr>\n",
       "    <tr>\n",
       "      <th>3</th>\n",
       "      <td>0</td>\n",
       "      <td>5</td>\n",
       "      <td>7</td>\n",
       "      <td>not relevant</td>\n",
       "      <td>large</td>\n",
       "      <td>255</td>\n",
       "    </tr>\n",
       "    <tr>\n",
       "      <th>4</th>\n",
       "      <td>0</td>\n",
       "      <td>3</td>\n",
       "      <td>8</td>\n",
       "      <td>not relevant</td>\n",
       "      <td>none</td>\n",
       "      <td>204</td>\n",
       "    </tr>\n",
       "    <tr>\n",
       "      <th>...</th>\n",
       "      <td>...</td>\n",
       "      <td>...</td>\n",
       "      <td>...</td>\n",
       "      <td>...</td>\n",
       "      <td>...</td>\n",
       "      <td>...</td>\n",
       "    </tr>\n",
       "    <tr>\n",
       "      <th>20784</th>\n",
       "      <td>0</td>\n",
       "      <td>3</td>\n",
       "      <td>8</td>\n",
       "      <td>not relevant</td>\n",
       "      <td>none</td>\n",
       "      <td>88</td>\n",
       "    </tr>\n",
       "    <tr>\n",
       "      <th>20785</th>\n",
       "      <td>0</td>\n",
       "      <td>3</td>\n",
       "      <td>8</td>\n",
       "      <td>not relevant</td>\n",
       "      <td>none</td>\n",
       "      <td>37</td>\n",
       "    </tr>\n",
       "    <tr>\n",
       "      <th>20786</th>\n",
       "      <td>0</td>\n",
       "      <td>3</td>\n",
       "      <td>7</td>\n",
       "      <td>not relevant</td>\n",
       "      <td>none</td>\n",
       "      <td>100</td>\n",
       "    </tr>\n",
       "    <tr>\n",
       "      <th>20787</th>\n",
       "      <td>0</td>\n",
       "      <td>3</td>\n",
       "      <td>8</td>\n",
       "      <td>not relevant</td>\n",
       "      <td>none</td>\n",
       "      <td>153</td>\n",
       "    </tr>\n",
       "    <tr>\n",
       "      <th>20788</th>\n",
       "      <td>0</td>\n",
       "      <td>3</td>\n",
       "      <td>7</td>\n",
       "      <td>not relevant</td>\n",
       "      <td>none</td>\n",
       "      <td>100</td>\n",
       "    </tr>\n",
       "  </tbody>\n",
       "</table>\n",
       "<p>20789 rows × 6 columns</p>\n",
       "</div>"
      ],
      "text/plain": [
       "      view condition grade renovation_cat basement_size geo_cluster_k\n",
       "0        0         3     7   not relevant          none           195\n",
       "1        0         3     7        distant        medium            71\n",
       "2        0         3     6   not relevant          none           234\n",
       "3        0         5     7   not relevant         large           255\n",
       "4        0         3     8   not relevant          none           204\n",
       "...    ...       ...   ...            ...           ...           ...\n",
       "20784    0         3     8   not relevant          none            88\n",
       "20785    0         3     8   not relevant          none            37\n",
       "20786    0         3     7   not relevant          none           100\n",
       "20787    0         3     8   not relevant          none           153\n",
       "20788    0         3     7   not relevant          none           100\n",
       "\n",
       "[20789 rows x 6 columns]"
      ]
     },
     "execution_count": 565,
     "metadata": {},
     "output_type": "execute_result"
    }
   ],
   "source": [
    "cat = df_new.select_dtypes(include = 'object')\n",
    "cat"
   ]
  },
  {
   "cell_type": "code",
   "execution_count": 566,
   "id": "9707f270",
   "metadata": {},
   "outputs": [],
   "source": [
    "# Convert to binary\n",
    "categorical = pd.get_dummies(cat, \n",
    "               drop_first = True)"
   ]
  },
  {
   "cell_type": "markdown",
   "id": "3d560d20",
   "metadata": {},
   "source": [
    "## Numerical data"
   ]
  },
  {
   "cell_type": "markdown",
   "id": "4a3be1f2",
   "metadata": {},
   "source": [
    "### Correlations check"
   ]
  },
  {
   "cell_type": "code",
   "execution_count": 567,
   "id": "5730dbc6",
   "metadata": {},
   "outputs": [
    {
     "data": {
      "text/plain": [
       "\"corr_matrix = df.corr()\\nfig, ax = plt.subplots(figsize= (20, 20))\\nsns.heatmap(corr_matrix, \\n            cmap='seismic_r', #add '_r' at the end to reverse color scheme\\n            center = 0,\\n            annot= True) \""
      ]
     },
     "execution_count": 567,
     "metadata": {},
     "output_type": "execute_result"
    }
   ],
   "source": [
    "# Plot regular df corrlations matrix\n",
    "'''corr_matrix = df.corr()\n",
    "fig, ax = plt.subplots(figsize= (20, 20))\n",
    "sns.heatmap(corr_matrix, \n",
    "            cmap='seismic_r', #add '_r' at the end to reverse color scheme\n",
    "            center = 0,\n",
    "            annot= True) '''"
   ]
  },
  {
   "cell_type": "code",
   "execution_count": 568,
   "id": "49366fa2",
   "metadata": {
    "scrolled": true
   },
   "outputs": [],
   "source": [
    "# Check correlations of numerical values\n",
    "corr_matrix = df_new.corr()"
   ]
  },
  {
   "cell_type": "code",
   "execution_count": 569,
   "id": "eeba8c92",
   "metadata": {
    "scrolled": true
   },
   "outputs": [
    {
     "data": {
      "text/plain": [
       "\"fig, ax = plt.subplots(figsize= (20, 20))\\nsns.heatmap(corr_matrix, \\n            cmap='seismic_r', #add '_r' at the end to reverse color scheme\\n            center = 0,\\n            annot= True) \""
      ]
     },
     "execution_count": 569,
     "metadata": {},
     "output_type": "execute_result"
    }
   ],
   "source": [
    "# Plot correlations matrix for GENERAL PROPERTY MARKET using heatmap\n",
    "'''fig, ax = plt.subplots(figsize= (20, 20))\n",
    "sns.heatmap(corr_matrix, \n",
    "            cmap='seismic_r', #add '_r' at the end to reverse color scheme\n",
    "            center = 0,\n",
    "            annot= True) '''"
   ]
  },
  {
   "cell_type": "markdown",
   "id": "34300209",
   "metadata": {},
   "source": [
    "### General observations\n",
    "A number of variables seem to be correlated to price including:\n",
    "* sq. ft living\n",
    "* sq. ft living15\n",
    "* sq. ft above\n",
    "\n",
    "High correlation between:\n",
    "* sq. ft living and sq. ft living15\n",
    "* sq. ft lot and sq. ft lot15\n",
    "* sq. ft above and sq. ft living"
   ]
  },
  {
   "cell_type": "markdown",
   "id": "137b4e53",
   "metadata": {},
   "source": [
    "### Compare correlations in higher and lower price segments"
   ]
  },
  {
   "cell_type": "code",
   "execution_count": 570,
   "id": "4cfd4f6f",
   "metadata": {},
   "outputs": [],
   "source": [
    "# Create seperate df for higher priced and lower priced properties\n",
    "higher_priced = df_trimmed[df_trimmed[\"price\"] > 650000]\n",
    "lower_priced = df_trimmed[df_trimmed[\"price\"] < 650000]"
   ]
  },
  {
   "cell_type": "code",
   "execution_count": 571,
   "id": "b1e3deed",
   "metadata": {
    "scrolled": true
   },
   "outputs": [],
   "source": [
    "# Create correlations matrices\n",
    "corr_matrix_hp = higher_priced.corr()\n",
    "corr_matrix_lp = lower_priced.corr()"
   ]
  },
  {
   "cell_type": "code",
   "execution_count": 572,
   "id": "038811c3",
   "metadata": {
    "scrolled": false
   },
   "outputs": [
    {
     "data": {
      "text/plain": [
       "\"fig, ax = plt.subplots(figsize= (20, 20))\\nsns.heatmap(corr_matrix_hp, \\n            cmap='seismic_r',\\n            center = 0,\\n            annot= True) \""
      ]
     },
     "execution_count": 572,
     "metadata": {},
     "output_type": "execute_result"
    }
   ],
   "source": [
    "# Plot correlations matrix for HIGHER-PRICED segment\n",
    "'''fig, ax = plt.subplots(figsize= (20, 20))\n",
    "sns.heatmap(corr_matrix_hp, \n",
    "            cmap='seismic_r',\n",
    "            center = 0,\n",
    "            annot= True) '''"
   ]
  },
  {
   "cell_type": "code",
   "execution_count": 573,
   "id": "b08d04e4",
   "metadata": {},
   "outputs": [
    {
     "data": {
      "text/plain": [
       "\"fig, ax = plt.subplots(figsize= (20, 20))\\nsns.heatmap(corr_matrix_lp, \\n            cmap='seismic_r',\\n            center = 0,\\n            annot= True) \""
      ]
     },
     "execution_count": 573,
     "metadata": {},
     "output_type": "execute_result"
    }
   ],
   "source": [
    "# Plot correlations matrix for LOWER-PRICED segment\n",
    "'''fig, ax = plt.subplots(figsize= (20, 20))\n",
    "sns.heatmap(corr_matrix_lp, \n",
    "            cmap='seismic_r',\n",
    "            center = 0,\n",
    "            annot= True) '''"
   ]
  },
  {
   "cell_type": "code",
   "execution_count": 574,
   "id": "21a7138e",
   "metadata": {
    "scrolled": false
   },
   "outputs": [
    {
     "data": {
      "text/plain": [
       "\"fig, ax = plt.subplots(figsize= (20, 20))\\nsns.heatmap((corr_matrix_hp-corr_matrix_lp), \\n            cmap='seismic_r',\\n            center = 0,\\n            annot= True) \""
      ]
     },
     "execution_count": 574,
     "metadata": {},
     "output_type": "execute_result"
    }
   ],
   "source": [
    "# View difference in correlation HIGH-PRICED VS. LOW-PRICED\n",
    "#Each number indicates that the correlation in the high-priced property market is higher \n",
    "#(or lower if negative) than in the high-priced market by that number\n",
    "'''fig, ax = plt.subplots(figsize= (20, 20))\n",
    "sns.heatmap((corr_matrix_hp-corr_matrix_lp), \n",
    "            cmap='seismic_r',\n",
    "            center = 0,\n",
    "            annot= True) '''"
   ]
  },
  {
   "cell_type": "markdown",
   "id": "4836b924",
   "metadata": {},
   "source": [
    "Notes:\n",
    "* When compared to the lower price segment, Sq. Ft. living, Sq. Ft. above and number of bathrooms seem to be more highly correlated to price"
   ]
  },
  {
   "cell_type": "code",
   "execution_count": 575,
   "id": "ae341523",
   "metadata": {},
   "outputs": [],
   "source": [
    "# Find differences in correlations between overall housing and higher_priced housing\n",
    "difference = corr_matrix - corr_matrix_hp"
   ]
  },
  {
   "cell_type": "code",
   "execution_count": 576,
   "id": "f6901592",
   "metadata": {
    "scrolled": false
   },
   "outputs": [
    {
     "data": {
      "text/plain": [
       "\"fig, ax = plt.subplots(figsize= (20, 20))\\nsns.heatmap(difference, \\n            cmap='seismic_r',\\n            center = 0,\\n            annot= True) \""
      ]
     },
     "execution_count": 576,
     "metadata": {},
     "output_type": "execute_result"
    }
   ],
   "source": [
    "# View difference in correlation GENERAL PROPERTY MARKET VS. HIGH-PRICED:\n",
    "# Each number indicates that the correlation in the general property market is higher (or lower) \n",
    "# than in the higher-priced market by that number\n",
    "'''fig, ax = plt.subplots(figsize= (20, 20))\n",
    "sns.heatmap(difference, \n",
    "            cmap='seismic_r',\n",
    "            center = 0,\n",
    "            annot= True) '''"
   ]
  },
  {
   "cell_type": "code",
   "execution_count": 577,
   "id": "1c59221b",
   "metadata": {},
   "outputs": [
    {
     "data": {
      "text/html": [
       "<div>\n",
       "<style scoped>\n",
       "    .dataframe tbody tr th:only-of-type {\n",
       "        vertical-align: middle;\n",
       "    }\n",
       "\n",
       "    .dataframe tbody tr th {\n",
       "        vertical-align: top;\n",
       "    }\n",
       "\n",
       "    .dataframe thead th {\n",
       "        text-align: right;\n",
       "    }\n",
       "</style>\n",
       "<table border=\"1\" class=\"dataframe\">\n",
       "  <thead>\n",
       "    <tr style=\"text-align: right;\">\n",
       "      <th></th>\n",
       "      <th>bedrooms</th>\n",
       "      <th>bathrooms</th>\n",
       "      <th>floors</th>\n",
       "      <th>view</th>\n",
       "      <th>condition</th>\n",
       "      <th>grade</th>\n",
       "      <th>sqft_above</th>\n",
       "      <th>yr_built</th>\n",
       "      <th>sqft_living15</th>\n",
       "      <th>sqft_lot15</th>\n",
       "      <th>renovation_cat</th>\n",
       "      <th>basement_size</th>\n",
       "      <th>geo_cluster_k</th>\n",
       "    </tr>\n",
       "  </thead>\n",
       "  <tbody>\n",
       "    <tr>\n",
       "      <th>0</th>\n",
       "      <td>3</td>\n",
       "      <td>1.00</td>\n",
       "      <td>1.0</td>\n",
       "      <td>0</td>\n",
       "      <td>3</td>\n",
       "      <td>7</td>\n",
       "      <td>1180</td>\n",
       "      <td>1955</td>\n",
       "      <td>1340</td>\n",
       "      <td>5650</td>\n",
       "      <td>not relevant</td>\n",
       "      <td>none</td>\n",
       "      <td>195</td>\n",
       "    </tr>\n",
       "    <tr>\n",
       "      <th>1</th>\n",
       "      <td>3</td>\n",
       "      <td>2.25</td>\n",
       "      <td>2.0</td>\n",
       "      <td>0</td>\n",
       "      <td>3</td>\n",
       "      <td>7</td>\n",
       "      <td>2170</td>\n",
       "      <td>1951</td>\n",
       "      <td>1690</td>\n",
       "      <td>7639</td>\n",
       "      <td>distant</td>\n",
       "      <td>medium</td>\n",
       "      <td>71</td>\n",
       "    </tr>\n",
       "    <tr>\n",
       "      <th>2</th>\n",
       "      <td>2</td>\n",
       "      <td>1.00</td>\n",
       "      <td>1.0</td>\n",
       "      <td>0</td>\n",
       "      <td>3</td>\n",
       "      <td>6</td>\n",
       "      <td>770</td>\n",
       "      <td>1933</td>\n",
       "      <td>2720</td>\n",
       "      <td>8062</td>\n",
       "      <td>not relevant</td>\n",
       "      <td>none</td>\n",
       "      <td>234</td>\n",
       "    </tr>\n",
       "    <tr>\n",
       "      <th>3</th>\n",
       "      <td>4</td>\n",
       "      <td>3.00</td>\n",
       "      <td>1.0</td>\n",
       "      <td>0</td>\n",
       "      <td>5</td>\n",
       "      <td>7</td>\n",
       "      <td>1050</td>\n",
       "      <td>1965</td>\n",
       "      <td>1360</td>\n",
       "      <td>5000</td>\n",
       "      <td>not relevant</td>\n",
       "      <td>large</td>\n",
       "      <td>255</td>\n",
       "    </tr>\n",
       "    <tr>\n",
       "      <th>4</th>\n",
       "      <td>3</td>\n",
       "      <td>2.00</td>\n",
       "      <td>1.0</td>\n",
       "      <td>0</td>\n",
       "      <td>3</td>\n",
       "      <td>8</td>\n",
       "      <td>1680</td>\n",
       "      <td>1987</td>\n",
       "      <td>1800</td>\n",
       "      <td>7503</td>\n",
       "      <td>not relevant</td>\n",
       "      <td>none</td>\n",
       "      <td>204</td>\n",
       "    </tr>\n",
       "    <tr>\n",
       "      <th>...</th>\n",
       "      <td>...</td>\n",
       "      <td>...</td>\n",
       "      <td>...</td>\n",
       "      <td>...</td>\n",
       "      <td>...</td>\n",
       "      <td>...</td>\n",
       "      <td>...</td>\n",
       "      <td>...</td>\n",
       "      <td>...</td>\n",
       "      <td>...</td>\n",
       "      <td>...</td>\n",
       "      <td>...</td>\n",
       "      <td>...</td>\n",
       "    </tr>\n",
       "    <tr>\n",
       "      <th>20784</th>\n",
       "      <td>3</td>\n",
       "      <td>2.50</td>\n",
       "      <td>3.0</td>\n",
       "      <td>0</td>\n",
       "      <td>3</td>\n",
       "      <td>8</td>\n",
       "      <td>1530</td>\n",
       "      <td>2009</td>\n",
       "      <td>1530</td>\n",
       "      <td>1509</td>\n",
       "      <td>not relevant</td>\n",
       "      <td>none</td>\n",
       "      <td>88</td>\n",
       "    </tr>\n",
       "    <tr>\n",
       "      <th>20785</th>\n",
       "      <td>4</td>\n",
       "      <td>2.50</td>\n",
       "      <td>2.0</td>\n",
       "      <td>0</td>\n",
       "      <td>3</td>\n",
       "      <td>8</td>\n",
       "      <td>2310</td>\n",
       "      <td>2014</td>\n",
       "      <td>1830</td>\n",
       "      <td>7200</td>\n",
       "      <td>not relevant</td>\n",
       "      <td>none</td>\n",
       "      <td>37</td>\n",
       "    </tr>\n",
       "    <tr>\n",
       "      <th>20786</th>\n",
       "      <td>2</td>\n",
       "      <td>0.75</td>\n",
       "      <td>2.0</td>\n",
       "      <td>0</td>\n",
       "      <td>3</td>\n",
       "      <td>7</td>\n",
       "      <td>1020</td>\n",
       "      <td>2009</td>\n",
       "      <td>1020</td>\n",
       "      <td>2007</td>\n",
       "      <td>not relevant</td>\n",
       "      <td>none</td>\n",
       "      <td>100</td>\n",
       "    </tr>\n",
       "    <tr>\n",
       "      <th>20787</th>\n",
       "      <td>3</td>\n",
       "      <td>2.50</td>\n",
       "      <td>2.0</td>\n",
       "      <td>0</td>\n",
       "      <td>3</td>\n",
       "      <td>8</td>\n",
       "      <td>1600</td>\n",
       "      <td>2004</td>\n",
       "      <td>1410</td>\n",
       "      <td>1287</td>\n",
       "      <td>not relevant</td>\n",
       "      <td>none</td>\n",
       "      <td>153</td>\n",
       "    </tr>\n",
       "    <tr>\n",
       "      <th>20788</th>\n",
       "      <td>2</td>\n",
       "      <td>0.75</td>\n",
       "      <td>2.0</td>\n",
       "      <td>0</td>\n",
       "      <td>3</td>\n",
       "      <td>7</td>\n",
       "      <td>1020</td>\n",
       "      <td>2008</td>\n",
       "      <td>1020</td>\n",
       "      <td>1357</td>\n",
       "      <td>not relevant</td>\n",
       "      <td>none</td>\n",
       "      <td>100</td>\n",
       "    </tr>\n",
       "  </tbody>\n",
       "</table>\n",
       "<p>20789 rows × 13 columns</p>\n",
       "</div>"
      ],
      "text/plain": [
       "       bedrooms  bathrooms  floors view condition grade  sqft_above  yr_built  \\\n",
       "0             3       1.00     1.0    0         3     7        1180      1955   \n",
       "1             3       2.25     2.0    0         3     7        2170      1951   \n",
       "2             2       1.00     1.0    0         3     6         770      1933   \n",
       "3             4       3.00     1.0    0         5     7        1050      1965   \n",
       "4             3       2.00     1.0    0         3     8        1680      1987   \n",
       "...         ...        ...     ...  ...       ...   ...         ...       ...   \n",
       "20784         3       2.50     3.0    0         3     8        1530      2009   \n",
       "20785         4       2.50     2.0    0         3     8        2310      2014   \n",
       "20786         2       0.75     2.0    0         3     7        1020      2009   \n",
       "20787         3       2.50     2.0    0         3     8        1600      2004   \n",
       "20788         2       0.75     2.0    0         3     7        1020      2008   \n",
       "\n",
       "       sqft_living15  sqft_lot15 renovation_cat basement_size geo_cluster_k  \n",
       "0               1340        5650   not relevant          none           195  \n",
       "1               1690        7639        distant        medium            71  \n",
       "2               2720        8062   not relevant          none           234  \n",
       "3               1360        5000   not relevant         large           255  \n",
       "4               1800        7503   not relevant          none           204  \n",
       "...              ...         ...            ...           ...           ...  \n",
       "20784           1530        1509   not relevant          none            88  \n",
       "20785           1830        7200   not relevant          none            37  \n",
       "20786           1020        2007   not relevant          none           100  \n",
       "20787           1410        1287   not relevant          none           153  \n",
       "20788           1020        1357   not relevant          none           100  \n",
       "\n",
       "[20789 rows x 13 columns]"
      ]
     },
     "execution_count": 577,
     "metadata": {},
     "output_type": "execute_result"
    }
   ],
   "source": [
    "# Seperate and drop value to be predicted\n",
    "y = df_new['price']\n",
    "df_new.drop(['price'], axis= 1, inplace = True)\n",
    "df_new"
   ]
  },
  {
   "cell_type": "markdown",
   "id": "b3d743c6",
   "metadata": {},
   "source": [
    "#### Get numerical values"
   ]
  },
  {
   "cell_type": "code",
   "execution_count": 578,
   "id": "4b18cc70",
   "metadata": {
    "scrolled": true
   },
   "outputs": [
    {
     "data": {
      "text/html": [
       "<div>\n",
       "<style scoped>\n",
       "    .dataframe tbody tr th:only-of-type {\n",
       "        vertical-align: middle;\n",
       "    }\n",
       "\n",
       "    .dataframe tbody tr th {\n",
       "        vertical-align: top;\n",
       "    }\n",
       "\n",
       "    .dataframe thead th {\n",
       "        text-align: right;\n",
       "    }\n",
       "</style>\n",
       "<table border=\"1\" class=\"dataframe\">\n",
       "  <thead>\n",
       "    <tr style=\"text-align: right;\">\n",
       "      <th></th>\n",
       "      <th>bedrooms</th>\n",
       "      <th>bathrooms</th>\n",
       "      <th>floors</th>\n",
       "      <th>sqft_above</th>\n",
       "      <th>yr_built</th>\n",
       "      <th>sqft_living15</th>\n",
       "      <th>sqft_lot15</th>\n",
       "    </tr>\n",
       "  </thead>\n",
       "  <tbody>\n",
       "    <tr>\n",
       "      <th>0</th>\n",
       "      <td>3</td>\n",
       "      <td>1.00</td>\n",
       "      <td>1.0</td>\n",
       "      <td>1180</td>\n",
       "      <td>1955</td>\n",
       "      <td>1340</td>\n",
       "      <td>5650</td>\n",
       "    </tr>\n",
       "    <tr>\n",
       "      <th>1</th>\n",
       "      <td>3</td>\n",
       "      <td>2.25</td>\n",
       "      <td>2.0</td>\n",
       "      <td>2170</td>\n",
       "      <td>1951</td>\n",
       "      <td>1690</td>\n",
       "      <td>7639</td>\n",
       "    </tr>\n",
       "    <tr>\n",
       "      <th>2</th>\n",
       "      <td>2</td>\n",
       "      <td>1.00</td>\n",
       "      <td>1.0</td>\n",
       "      <td>770</td>\n",
       "      <td>1933</td>\n",
       "      <td>2720</td>\n",
       "      <td>8062</td>\n",
       "    </tr>\n",
       "    <tr>\n",
       "      <th>3</th>\n",
       "      <td>4</td>\n",
       "      <td>3.00</td>\n",
       "      <td>1.0</td>\n",
       "      <td>1050</td>\n",
       "      <td>1965</td>\n",
       "      <td>1360</td>\n",
       "      <td>5000</td>\n",
       "    </tr>\n",
       "    <tr>\n",
       "      <th>4</th>\n",
       "      <td>3</td>\n",
       "      <td>2.00</td>\n",
       "      <td>1.0</td>\n",
       "      <td>1680</td>\n",
       "      <td>1987</td>\n",
       "      <td>1800</td>\n",
       "      <td>7503</td>\n",
       "    </tr>\n",
       "    <tr>\n",
       "      <th>...</th>\n",
       "      <td>...</td>\n",
       "      <td>...</td>\n",
       "      <td>...</td>\n",
       "      <td>...</td>\n",
       "      <td>...</td>\n",
       "      <td>...</td>\n",
       "      <td>...</td>\n",
       "    </tr>\n",
       "    <tr>\n",
       "      <th>20784</th>\n",
       "      <td>3</td>\n",
       "      <td>2.50</td>\n",
       "      <td>3.0</td>\n",
       "      <td>1530</td>\n",
       "      <td>2009</td>\n",
       "      <td>1530</td>\n",
       "      <td>1509</td>\n",
       "    </tr>\n",
       "    <tr>\n",
       "      <th>20785</th>\n",
       "      <td>4</td>\n",
       "      <td>2.50</td>\n",
       "      <td>2.0</td>\n",
       "      <td>2310</td>\n",
       "      <td>2014</td>\n",
       "      <td>1830</td>\n",
       "      <td>7200</td>\n",
       "    </tr>\n",
       "    <tr>\n",
       "      <th>20786</th>\n",
       "      <td>2</td>\n",
       "      <td>0.75</td>\n",
       "      <td>2.0</td>\n",
       "      <td>1020</td>\n",
       "      <td>2009</td>\n",
       "      <td>1020</td>\n",
       "      <td>2007</td>\n",
       "    </tr>\n",
       "    <tr>\n",
       "      <th>20787</th>\n",
       "      <td>3</td>\n",
       "      <td>2.50</td>\n",
       "      <td>2.0</td>\n",
       "      <td>1600</td>\n",
       "      <td>2004</td>\n",
       "      <td>1410</td>\n",
       "      <td>1287</td>\n",
       "    </tr>\n",
       "    <tr>\n",
       "      <th>20788</th>\n",
       "      <td>2</td>\n",
       "      <td>0.75</td>\n",
       "      <td>2.0</td>\n",
       "      <td>1020</td>\n",
       "      <td>2008</td>\n",
       "      <td>1020</td>\n",
       "      <td>1357</td>\n",
       "    </tr>\n",
       "  </tbody>\n",
       "</table>\n",
       "<p>20789 rows × 7 columns</p>\n",
       "</div>"
      ],
      "text/plain": [
       "       bedrooms  bathrooms  floors  sqft_above  yr_built  sqft_living15  \\\n",
       "0             3       1.00     1.0        1180      1955           1340   \n",
       "1             3       2.25     2.0        2170      1951           1690   \n",
       "2             2       1.00     1.0         770      1933           2720   \n",
       "3             4       3.00     1.0        1050      1965           1360   \n",
       "4             3       2.00     1.0        1680      1987           1800   \n",
       "...         ...        ...     ...         ...       ...            ...   \n",
       "20784         3       2.50     3.0        1530      2009           1530   \n",
       "20785         4       2.50     2.0        2310      2014           1830   \n",
       "20786         2       0.75     2.0        1020      2009           1020   \n",
       "20787         3       2.50     2.0        1600      2004           1410   \n",
       "20788         2       0.75     2.0        1020      2008           1020   \n",
       "\n",
       "       sqft_lot15  \n",
       "0            5650  \n",
       "1            7639  \n",
       "2            8062  \n",
       "3            5000  \n",
       "4            7503  \n",
       "...           ...  \n",
       "20784        1509  \n",
       "20785        7200  \n",
       "20786        2007  \n",
       "20787        1287  \n",
       "20788        1357  \n",
       "\n",
       "[20789 rows x 7 columns]"
      ]
     },
     "execution_count": 578,
     "metadata": {},
     "output_type": "execute_result"
    }
   ],
   "source": [
    "# Get numericals for Model 1\n",
    "numerical = df_new.select_dtypes(include = np.number)\n",
    "numerical"
   ]
  },
  {
   "cell_type": "markdown",
   "id": "9518b7b3",
   "metadata": {},
   "source": [
    "### Check for normal distribution"
   ]
  },
  {
   "cell_type": "code",
   "execution_count": 579,
   "id": "4301bcea",
   "metadata": {
    "scrolled": false
   },
   "outputs": [],
   "source": [
    "# Plot data\n",
    "#sns.pairplot(numerical, diag_kind='kde')"
   ]
  },
  {
   "cell_type": "markdown",
   "id": "e3115c51",
   "metadata": {},
   "source": [
    "### Normalise data with normaliser"
   ]
  },
  {
   "cell_type": "code",
   "execution_count": 580,
   "id": "d1a8c5fa",
   "metadata": {},
   "outputs": [],
   "source": [
    "from sklearn.preprocessing import Normalizer\n",
    "\n",
    "# Model 1 - Normalise\n",
    "transformer_n =  Normalizer().fit(numerical)\n",
    "X_normalized = transformer_n.transform(numerical)"
   ]
  },
  {
   "cell_type": "code",
   "execution_count": 581,
   "id": "9d64379c",
   "metadata": {
    "scrolled": false
   },
   "outputs": [
    {
     "data": {
      "text/plain": [
       "array([[4.80800497e-04, 1.60266832e-04, 1.60266832e-04, ...,\n",
       "        3.13321657e-01, 2.14757555e-01, 9.05507602e-01],\n",
       "       [3.59273089e-04, 2.69454817e-04, 2.39515393e-04, ...,\n",
       "        2.33647266e-01, 2.02390507e-01, 9.14829043e-01],\n",
       "       [2.28331274e-04, 1.14165637e-04, 1.14165637e-04, ...,\n",
       "        2.20682176e-01, 3.10530532e-01, 9.20403364e-01],\n",
       "       ...,\n",
       "       [6.27921401e-04, 2.35470525e-04, 6.27921401e-04, ...,\n",
       "        6.30747047e-01, 3.20239914e-01, 6.30119126e-01],\n",
       "       [9.38393721e-04, 7.81994767e-04, 6.25595814e-04, ...,\n",
       "        6.26847006e-01, 4.41045049e-01, 4.02570906e-01],\n",
       "       [7.09134188e-04, 2.65925321e-04, 7.09134188e-04, ...,\n",
       "        7.11970725e-01, 3.61658436e-01, 4.81147547e-01]])"
      ]
     },
     "execution_count": 581,
     "metadata": {},
     "output_type": "execute_result"
    }
   ],
   "source": [
    "X_normalized"
   ]
  },
  {
   "cell_type": "code",
   "execution_count": 582,
   "id": "002435f0",
   "metadata": {},
   "outputs": [],
   "source": [
    "# Convert normalised data to dataframes\n",
    "#columns_m1 = numerical_m1.columns.to_list()\n",
    "#X_norm_m1 = pd.DataFrame(X_normalized_m1, columns=columns_m1)\n",
    "\n",
    "columns_n = numerical.columns.to_list()\n",
    "X_norm = pd.DataFrame(X_normalized, columns=columns_n)"
   ]
  },
  {
   "cell_type": "code",
   "execution_count": 583,
   "id": "c8c27b7e",
   "metadata": {
    "scrolled": true
   },
   "outputs": [],
   "source": [
    "# Plot normalised data\n",
    "# sns.pairplot(X_norm_m1, diag_kind='kde')"
   ]
  },
  {
   "cell_type": "code",
   "execution_count": 584,
   "id": "47cd5d09",
   "metadata": {},
   "outputs": [],
   "source": [
    "# Plot normalised data\n",
    "# sns.pairplot(X_norm_m2, diag_kind='kde')"
   ]
  },
  {
   "cell_type": "markdown",
   "id": "48206613",
   "metadata": {},
   "source": [
    "### Scale data with Robust Scaler"
   ]
  },
  {
   "cell_type": "code",
   "execution_count": 585,
   "id": "52d0dc09",
   "metadata": {},
   "outputs": [],
   "source": [
    "from sklearn.preprocessing import RobustScaler\n",
    "\n",
    "# Model 2 - Robust Scale\n",
    "transformer_s =  RobustScaler().fit(numerical)\n",
    "X_rob_scaled = transformer_s.transform(numerical)"
   ]
  },
  {
   "cell_type": "code",
   "execution_count": 586,
   "id": "b2a7717b",
   "metadata": {
    "scrolled": false
   },
   "outputs": [
    {
     "data": {
      "text/plain": [
       "array([[ 0.        , -1.25      ,  0.        , ..., -0.4       ,\n",
       "        -0.56976744, -0.39494243],\n",
       "       [ 0.        ,  0.        ,  1.        , ..., -0.48888889,\n",
       "        -0.1627907 ,  0.01398026],\n",
       "       [-1.        , -1.25      ,  0.        , ..., -0.88888889,\n",
       "         1.03488372,  0.10094572],\n",
       "       ...,\n",
       "       [-1.        , -1.5       ,  1.        , ...,  0.8       ,\n",
       "        -0.94186047, -1.14391447],\n",
       "       [ 0.        ,  0.25      ,  1.        , ...,  0.68888889,\n",
       "        -0.48837209, -1.29194079],\n",
       "       [-1.        , -1.5       ,  1.        , ...,  0.77777778,\n",
       "        -0.94186047, -1.27754934]])"
      ]
     },
     "execution_count": 586,
     "metadata": {},
     "output_type": "execute_result"
    }
   ],
   "source": [
    "X_rob_scaled"
   ]
  },
  {
   "cell_type": "code",
   "execution_count": 587,
   "id": "fb1612ac",
   "metadata": {},
   "outputs": [],
   "source": [
    "# Convert scaled data to dataframe\n",
    "X_r_scaled = pd.DataFrame(X_rob_scaled, columns=columns_n)"
   ]
  },
  {
   "cell_type": "code",
   "execution_count": 588,
   "id": "6a55297f",
   "metadata": {
    "scrolled": true
   },
   "outputs": [],
   "source": [
    "# Plot normalised data\n",
    "#sns.pairplot(numerical, diag_kind='kde')"
   ]
  },
  {
   "cell_type": "code",
   "execution_count": 589,
   "id": "c5038523",
   "metadata": {},
   "outputs": [],
   "source": [
    "# Plot scaled data\n",
    "#sns.pairplot(X_r_scaled, diag_kind='kde')"
   ]
  },
  {
   "cell_type": "markdown",
   "id": "f99e00c4",
   "metadata": {},
   "source": [
    "## Rejoin numerical and categorical values"
   ]
  },
  {
   "cell_type": "code",
   "execution_count": 590,
   "id": "93ebac79",
   "metadata": {},
   "outputs": [],
   "source": [
    "df_wf = pd.DataFrame(df_waterfront)"
   ]
  },
  {
   "cell_type": "code",
   "execution_count": 591,
   "id": "57f40d74",
   "metadata": {},
   "outputs": [
    {
     "name": "stdout",
     "output_type": "stream",
     "text": [
      "(20789, 7)\n",
      "(20789, 7)\n",
      "(20789, 323)\n",
      "(20789, 1)\n"
     ]
    }
   ],
   "source": [
    "# Check length of dfs to be concatenated\n",
    "shapes = [X_norm, X_r_scaled, categorical, df_wf]\n",
    "for x in shapes:\n",
    "    print(x.shape)"
   ]
  },
  {
   "cell_type": "code",
   "execution_count": 592,
   "id": "084056fa",
   "metadata": {},
   "outputs": [],
   "source": [
    "# Model 1 - Normalised\n",
    "X_m1 = np.concatenate((X_norm, categorical, df_wf), axis=1)\n",
    "\n",
    "# Model 2 - Robust Scaled\n",
    "X_m2 = np.concatenate((X_r_scaled, categorical, df_wf), axis=1)"
   ]
  },
  {
   "cell_type": "markdown",
   "id": "073ac089",
   "metadata": {},
   "source": [
    "## Run regression"
   ]
  },
  {
   "cell_type": "code",
   "execution_count": 593,
   "id": "5a151806",
   "metadata": {},
   "outputs": [],
   "source": [
    "from sklearn import linear_model\n",
    "from sklearn.metrics import mean_squared_error, r2_score\n",
    "from sklearn.model_selection import train_test_split"
   ]
  },
  {
   "cell_type": "code",
   "execution_count": 594,
   "id": "fab12c80",
   "metadata": {},
   "outputs": [
    {
     "data": {
      "text/plain": [
       "0        221900\n",
       "1        538000\n",
       "2        180000\n",
       "3        604000\n",
       "4        510000\n",
       "          ...  \n",
       "20784    360000\n",
       "20785    400000\n",
       "20786    402101\n",
       "20787    400000\n",
       "20788    325000\n",
       "Name: price, Length: 20789, dtype: int64"
      ]
     },
     "execution_count": 594,
     "metadata": {},
     "output_type": "execute_result"
    }
   ],
   "source": [
    "y"
   ]
  },
  {
   "cell_type": "code",
   "execution_count": 595,
   "id": "6f6166f9",
   "metadata": {},
   "outputs": [],
   "source": [
    "# Model 1 - Normalised\n",
    "X_train_m1, X_test_m1, y_train_m1, y_test_m1 = train_test_split(X_m1, y, test_size= 0.4, random_state=100) \n",
    "\n",
    "# Model 2 - Robust Scaled\n",
    "X_train_m2, X_test_m2, y_train_m2, y_test_m2 = train_test_split(X_m2, y, test_size= 0.4, random_state=100) "
   ]
  },
  {
   "cell_type": "code",
   "execution_count": 596,
   "id": "3df60b69",
   "metadata": {},
   "outputs": [
    {
     "data": {
      "text/plain": [
       "0.8432680041308508"
      ]
     },
     "execution_count": 596,
     "metadata": {},
     "output_type": "execute_result"
    }
   ],
   "source": [
    "# Results from normalised model\n",
    "lm_m1 = linear_model.LinearRegression() # configure model\n",
    "model_m1= lm_m1.fit(X_train_m1, y_train_m1) # train model\n",
    "predictions = lm_m1.predict(X_test_m1) # set up prediction method\n",
    "r2_score(y_test_m1, predictions) # calculate my accuracy"
   ]
  },
  {
   "cell_type": "code",
   "execution_count": 597,
   "id": "f8919f0d",
   "metadata": {},
   "outputs": [
    {
     "data": {
      "text/plain": [
       "21225814798.276955"
      ]
     },
     "execution_count": 597,
     "metadata": {},
     "output_type": "execute_result"
    }
   ],
   "source": [
    "mean_squared_error(y_test_m1, predictions)"
   ]
  },
  {
   "cell_type": "code",
   "execution_count": 598,
   "id": "be518b27",
   "metadata": {},
   "outputs": [
    {
     "name": "stdout",
     "output_type": "stream",
     "text": [
      "r2 score: 0.856469114248122\n",
      "MSE: 19438022095.6638\n"
     ]
    }
   ],
   "source": [
    "# Results from Robust Scaling model where lot sizes over 200,000 squ. feet are excluded\n",
    "lm_m2 = linear_model.LinearRegression() # configure model\n",
    "model_m2= lm_m2.fit(X_train_m2, y_train_m2) # train model\n",
    "predictions = lm_m2.predict(X_test_m2) # set up prediction method\n",
    "print(\"r2 score:\",r2_score(y_test_m2, predictions)) # calculate my accuracy\n",
    "print(\"MSE:\",mean_squared_error(y_test_m2,predictions))"
   ]
  },
  {
   "cell_type": "markdown",
   "id": "fb7bc70f",
   "metadata": {},
   "source": [
    "Best results:\n",
    "* r2 score: 0.8406682551194486\n",
    "* MSE: 21577892181.91529\n",
    "Achieved with yr_built in bins and zip code (no long / lat)\n",
    "\n",
    "--Achieved with yr_built and k_means clustered long / lat (500 clusters)\n",
    "* r2 score: 0.8587240336738631\n",
    "* MSE: 19132644104.077614\n",
    "\n",
    "Last results:\n",
    "* r2 score: 0.8313868887649545\n",
    "* MSE: 22834843975.47201"
   ]
  },
  {
   "cell_type": "markdown",
   "id": "b2867b60",
   "metadata": {},
   "source": [
    "## Run K-nearest Neighbour"
   ]
  },
  {
   "cell_type": "code",
   "execution_count": 599,
   "id": "2caa2a57",
   "metadata": {},
   "outputs": [],
   "source": [
    "from sklearn.neighbors import KNeighborsClassifier"
   ]
  },
  {
   "cell_type": "code",
   "execution_count": 600,
   "id": "8f9f1908",
   "metadata": {},
   "outputs": [],
   "source": [
    "knn = KNeighborsClassifier(n_neighbors=5)"
   ]
  },
  {
   "cell_type": "code",
   "execution_count": 601,
   "id": "1eb1bfc0",
   "metadata": {},
   "outputs": [
    {
     "data": {
      "text/plain": [
       "KNeighborsClassifier()"
      ]
     },
     "execution_count": 601,
     "metadata": {},
     "output_type": "execute_result"
    }
   ],
   "source": [
    "#Train the model using the training sets\n",
    "knn.fit(X_train_m1, y_train_m1)"
   ]
  },
  {
   "cell_type": "code",
   "execution_count": 602,
   "id": "dd74ca90",
   "metadata": {},
   "outputs": [],
   "source": [
    "#Predict the response for test dataset\n",
    "y_pred = knn.predict(X_test_m1)"
   ]
  },
  {
   "cell_type": "code",
   "execution_count": 603,
   "id": "8c39116b",
   "metadata": {},
   "outputs": [
    {
     "name": "stdout",
     "output_type": "stream",
     "text": [
      "r2 score: 0.40682077227725355\n",
      "MSE: 19438022095.6638\n"
     ]
    }
   ],
   "source": [
    "from sklearn import metrics\n",
    "# Model Accuracy, how often is the classifier correct?\n",
    "print(\"r2 score:\",r2_score(y_test_m1, y_pred))\n",
    "print(\"MSE:\",mean_squared_error(y_test_m1,predictions))"
   ]
  },
  {
   "cell_type": "markdown",
   "id": "bde43922",
   "metadata": {},
   "source": [
    "r2 score: 0.5207369196549329\n",
    "MSE: 21577892181.91529\n",
    "#X_test_m2.shape"
   ]
  },
  {
   "cell_type": "code",
   "execution_count": 604,
   "id": "0e1246d7",
   "metadata": {},
   "outputs": [],
   "source": [
    "#df_X = pd.DataFrame(X_test_m2)\n",
    "#df_X.head()"
   ]
  },
  {
   "cell_type": "code",
   "execution_count": 605,
   "id": "92f6b98f",
   "metadata": {},
   "outputs": [],
   "source": [
    "#predictions.shape"
   ]
  },
  {
   "cell_type": "code",
   "execution_count": 606,
   "id": "a3da3a4e",
   "metadata": {},
   "outputs": [],
   "source": [
    "#df_pred= pd.DataFrame(predictions, columns=['predicted'])\n",
    "#df_pred.shape"
   ]
  },
  {
   "cell_type": "code",
   "execution_count": 607,
   "id": "41afa259",
   "metadata": {},
   "outputs": [],
   "source": [
    "#y_test_m2.shape"
   ]
  },
  {
   "cell_type": "code",
   "execution_count": 608,
   "id": "35847794",
   "metadata": {},
   "outputs": [],
   "source": [
    "#df_true = pd.DataFrame(y_test_m2)\n",
    "#df_true.shape"
   ]
  },
  {
   "cell_type": "code",
   "execution_count": 609,
   "id": "f70bd46d",
   "metadata": {},
   "outputs": [],
   "source": [
    "#pred_acc = pd.DataFrame(np.concatenate((df_pred, df_true), axis=1), columns=['predicted', 'true_values'])"
   ]
  },
  {
   "cell_type": "code",
   "execution_count": 610,
   "id": "460af0bb",
   "metadata": {},
   "outputs": [],
   "source": [
    "#pred_acc['difference'] = (pred_acc['predicted']-pred_acc['true_values'])/pred_acc['true_values']\n",
    "#pred_acc.head()"
   ]
  },
  {
   "cell_type": "code",
   "execution_count": 611,
   "id": "deccc896",
   "metadata": {},
   "outputs": [],
   "source": [
    "#X_train, X_TEST, y_train, y_test = train_test_split(df_new, y, test_size= 0.4, random_state=100)\n",
    "#X_TEST"
   ]
  },
  {
   "cell_type": "code",
   "execution_count": 612,
   "id": "e6d73541",
   "metadata": {},
   "outputs": [],
   "source": [
    "#pred_accuracy = pd.DataFrame(np.concatenate((pred_acc, X_TEST), axis=1))"
   ]
  },
  {
   "cell_type": "code",
   "execution_count": 613,
   "id": "068aae75",
   "metadata": {},
   "outputs": [],
   "source": [
    "#pred_accuracy.to_excel('/Users/arnet/Desktop/Ironhack/Week5_Project/predictions.xls')"
   ]
  }
 ],
 "metadata": {
  "kernelspec": {
   "display_name": "Python 3",
   "language": "python",
   "name": "python3"
  },
  "language_info": {
   "codemirror_mode": {
    "name": "ipython",
    "version": 3
   },
   "file_extension": ".py",
   "mimetype": "text/x-python",
   "name": "python",
   "nbconvert_exporter": "python",
   "pygments_lexer": "ipython3",
   "version": "3.8.8"
  }
 },
 "nbformat": 4,
 "nbformat_minor": 5
}
